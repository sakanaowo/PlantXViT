{
 "metadata": {
  "kernelspec": {
   "display_name": "Python 3",
   "name": "python3"
  },
  "language_info": {
   "name": "python",
   "version": "3.11.11",
   "mimetype": "text/x-python",
   "codemirror_mode": {
    "name": "ipython",
    "version": 3
   },
   "pygments_lexer": "ipython3",
   "nbconvert_exporter": "python",
   "file_extension": ".py"
  },
  "kaggle": {
   "accelerator": "nvidiaTeslaT4",
   "dataSources": [],
   "dockerImageVersionId": 31041,
   "isInternetEnabled": true,
   "language": "python",
   "sourceType": "notebook",
   "isGpuEnabled": true
  },
  "colab": {
   "provenance": [],
   "gpuType": "A100"
  },
  "accelerator": "GPU"
 },
 "nbformat_minor": 0,
 "nbformat": 4,
 "cells": [
  {
   "cell_type": "code",
   "source": [
    "!git clone https://github.com/sakanaowo/PlantXViT"
   ],
   "metadata": {
    "_uuid": "8f2839f25d086af736a60e9eeb907d3b93b6e0e5",
    "_cell_guid": "b1076dfc-b9ad-4769-8c92-a6c4dae69d19",
    "trusted": true,
    "execution": {
     "iopub.status.busy": "2025-06-10T04:00:51.573835Z",
     "iopub.execute_input": "2025-06-10T04:00:51.574036Z",
     "iopub.status.idle": "2025-06-10T04:01:45.834525Z",
     "shell.execute_reply.started": "2025-06-10T04:00:51.574019Z",
     "shell.execute_reply": "2025-06-10T04:01:45.833579Z"
    },
    "colab": {
     "base_uri": "https://localhost:8080/"
    },
    "id": "icsw9sOVmYzm",
    "outputId": "2ae32a85-1ed0-4202-f948-3af9ce2bfa97"
   },
   "outputs": [
    {
     "output_type": "stream",
     "name": "stdout",
     "text": [
      "Cloning into 'PlantXViT'...\n",
      "remote: Enumerating objects: 50365, done.\u001B[K\n",
      "remote: Counting objects: 100% (94/94), done.\u001B[K\n",
      "remote: Compressing objects: 100% (62/62), done.\u001B[K\n",
      "remote: Total 50365 (delta 36), reused 77 (delta 21), pack-reused 50271 (from 1)\u001B[K\n",
      "Receiving objects: 100% (50365/50365), 1.66 GiB | 15.26 MiB/s, done.\n",
      "Resolving deltas: 100% (30421/30421), done.\n",
      "Updating files: 100% (50037/50037), done.\n"
     ]
    }
   ],
   "execution_count": 1
  },
  {
   "cell_type": "code",
   "source": [
    "!git pull"
   ],
   "metadata": {
    "colab": {
     "base_uri": "https://localhost:8080/"
    },
    "id": "DKoNvawQyeH7",
    "outputId": "576d2f3b-1475-4159-f702-0f21203d2dca"
   },
   "execution_count": 33,
   "outputs": [
    {
     "output_type": "stream",
     "name": "stdout",
     "text": [
      "remote: Enumerating objects: 11, done.\u001B[K\n",
      "remote: Counting objects:   9% (1/11)\u001B[K\rremote: Counting objects:  18% (2/11)\u001B[K\rremote: Counting objects:  27% (3/11)\u001B[K\rremote: Counting objects:  36% (4/11)\u001B[K\rremote: Counting objects:  45% (5/11)\u001B[K\rremote: Counting objects:  54% (6/11)\u001B[K\rremote: Counting objects:  63% (7/11)\u001B[K\rremote: Counting objects:  72% (8/11)\u001B[K\rremote: Counting objects:  81% (9/11)\u001B[K\rremote: Counting objects:  90% (10/11)\u001B[K\rremote: Counting objects: 100% (11/11)\u001B[K\rremote: Counting objects: 100% (11/11), done.\u001B[K\n",
      "remote: Compressing objects: 100% (1/1)\u001B[K\rremote: Compressing objects: 100% (1/1), done.\u001B[K\n",
      "remote: Total 6 (delta 5), reused 6 (delta 5), pack-reused 0 (from 0)\u001B[K\n",
      "Unpacking objects:  16% (1/6)\rUnpacking objects:  33% (2/6)\rUnpacking objects:  50% (3/6)\rUnpacking objects:  66% (4/6)\rUnpacking objects:  83% (5/6)\rUnpacking objects: 100% (6/6)\rUnpacking objects: 100% (6/6), 541 bytes | 541.00 KiB/s, done.\n",
      "From https://github.com/sakanaowo/PlantXViT\n",
      "   d3151181..c9909ad8  main       -> origin/main\n",
      "Updating d3151181..c9909ad8\n",
      "Fast-forward\n",
      " src/model.py                | 2 \u001B[32m+\u001B[m\u001B[31m-\u001B[m\n",
      " utils/preprocess_embrapa.py | 2 \u001B[32m++\u001B[m\n",
      " 2 files changed, 3 insertions(+), 1 deletion(-)\n"
     ]
    }
   ]
  },
  {
   "cell_type": "code",
   "source": [
    "%cd PlantXViT"
   ],
   "metadata": {
    "trusted": true,
    "execution": {
     "iopub.status.busy": "2025-06-10T04:01:45.835636Z",
     "iopub.execute_input": "2025-06-10T04:01:45.835857Z",
     "iopub.status.idle": "2025-06-10T04:01:45.842278Z",
     "shell.execute_reply.started": "2025-06-10T04:01:45.835833Z",
     "shell.execute_reply": "2025-06-10T04:01:45.841538Z"
    },
    "colab": {
     "base_uri": "https://localhost:8080/"
    },
    "id": "TvnXmxsrmYzo",
    "outputId": "b367b0a8-09a9-4965-9807-a6c3541977d0"
   },
   "outputs": [
    {
     "output_type": "stream",
     "name": "stdout",
     "text": [
      "/content/PlantXViT\n"
     ]
    }
   ],
   "execution_count": 2
  },
  {
   "cell_type": "markdown",
   "source": [
    "preprocess here"
   ],
   "metadata": {
    "id": "HXZlwdw6mYzo"
   }
  },
  {
   "cell_type": "code",
   "source": [
    "from torchvision import datasets, transforms\n",
    "from torch.utils.data import DataLoader\n",
    "\n",
    "image_transforms = transforms.Compose([\n",
    "    transforms.RandomHorizontalFlip(),\n",
    "    transforms.ColorJitter(0.2, 0.2, 0.2, 0.0),\n",
    "    transforms.Resize((224, 224)),\n",
    "    transforms.ToTensor(),\n",
    "    transforms.Normalize(mean=[0.485, 0.456, 0.406],\n",
    "                         std=[0.229, 0.224, 0.225])\n",
    "])\n"
   ],
   "metadata": {
    "trusted": true,
    "execution": {
     "iopub.status.busy": "2025-06-10T04:01:45.844094Z",
     "iopub.execute_input": "2025-06-10T04:01:45.844314Z",
     "iopub.status.idle": "2025-06-10T04:01:54.735799Z",
     "shell.execute_reply.started": "2025-06-10T04:01:45.844299Z",
     "shell.execute_reply": "2025-06-10T04:01:54.735027Z"
    },
    "id": "U98xOYVmmYzp"
   },
   "outputs": [],
   "execution_count": 34
  },
  {
   "cell_type": "code",
   "source": [
    "!ls ./data/raw/embrapa"
   ],
   "metadata": {
    "trusted": true,
    "execution": {
     "iopub.status.busy": "2025-06-10T04:01:54.736645Z",
     "iopub.execute_input": "2025-06-10T04:01:54.736929Z",
     "iopub.status.idle": "2025-06-10T04:01:54.869981Z",
     "shell.execute_reply.started": "2025-06-10T04:01:54.736912Z",
     "shell.execute_reply": "2025-06-10T04:01:54.869334Z"
    },
    "colab": {
     "base_uri": "https://localhost:8080/"
    },
    "id": "5m__KDDQmYzq",
    "outputId": "1a8c6450-c410-4dba-c9b2-efcc662cd32f"
   },
   "outputs": [
    {
     "output_type": "stream",
     "name": "stdout",
     "text": [
      "test  train  val\n"
     ]
    }
   ],
   "execution_count": 35
  },
  {
   "cell_type": "code",
   "source": [
    "import os"
   ],
   "metadata": {
    "trusted": true,
    "execution": {
     "iopub.status.busy": "2025-06-10T04:01:54.870880Z",
     "iopub.execute_input": "2025-06-10T04:01:54.871195Z",
     "iopub.status.idle": "2025-06-10T04:01:54.875051Z",
     "shell.execute_reply.started": "2025-06-10T04:01:54.871157Z",
     "shell.execute_reply": "2025-06-10T04:01:54.874437Z"
    },
    "id": "MtD3LimxmYzq"
   },
   "outputs": [],
   "execution_count": 36
  },
  {
   "cell_type": "code",
   "source": [
    "root_dir=\"./data/raw/embrapa\""
   ],
   "metadata": {
    "trusted": true,
    "execution": {
     "iopub.status.busy": "2025-06-10T04:01:54.875815Z",
     "iopub.execute_input": "2025-06-10T04:01:54.876140Z",
     "iopub.status.idle": "2025-06-10T04:01:54.887062Z",
     "shell.execute_reply.started": "2025-06-10T04:01:54.876101Z",
     "shell.execute_reply": "2025-06-10T04:01:54.886515Z"
    },
    "id": "-FWHLFD9mYzq"
   },
   "outputs": [],
   "execution_count": 37
  },
  {
   "cell_type": "code",
   "source": [
    "train_dataset = datasets.ImageFolder(os.path.join(root_dir, \"train\"), transform=image_transforms)\n",
    "val_dataset = datasets.ImageFolder(os.path.join(root_dir, \"val\"), transform=image_transforms)\n",
    "test_dataset = datasets.ImageFolder(os.path.join(root_dir, \"test\"), transform=image_transforms)\n",
    "\n",
    "train_loader = DataLoader(train_dataset, batch_size=16, shuffle=True, num_workers=4)\n",
    "val_loader = DataLoader(val_dataset, batch_size=16, shuffle=False, num_workers=4)\n",
    "test_loader = DataLoader(test_dataset, batch_size=16, shuffle=False, num_workers=4)"
   ],
   "metadata": {
    "trusted": true,
    "execution": {
     "iopub.status.busy": "2025-06-10T04:01:54.887739Z",
     "iopub.execute_input": "2025-06-10T04:01:54.887965Z",
     "iopub.status.idle": "2025-06-10T04:01:55.009637Z",
     "shell.execute_reply.started": "2025-06-10T04:01:54.887949Z",
     "shell.execute_reply": "2025-06-10T04:01:55.009077Z"
    },
    "id": "Rpif567QmYzq"
   },
   "outputs": [],
   "execution_count": 38
  },
  {
   "cell_type": "code",
   "source": [
    "import torch\n",
    "import torch.nn as nn\n",
    "import torchvision.models as models\n",
    "from torchvision.models import VGG16_Weights\n",
    "\n",
    "\n",
    "# inception block (chỉnh sửa: tổng output channels = 512)\n",
    "class InceptionBlock(nn.Module):\n",
    "    def __init__(self, in_channels):\n",
    "        super().__init__()\n",
    "        self.branch1x1 = nn.Conv2d(in_channels, 192, kernel_size=1)  # Tăng lên 192\n",
    "\n",
    "        self.branch3x3 = nn.Sequential(\n",
    "            nn.Conv2d(in_channels, 160, kernel_size=(1, 3), padding=(0, 1)),\n",
    "            nn.Conv2d(160, 160, kernel_size=(3, 1), padding=(1, 0)),\n",
    "        )\n",
    "\n",
    "        self.branch_pool = nn.Sequential(\n",
    "            nn.MaxPool2d(kernel_size=3, stride=1, padding=1),\n",
    "            nn.Conv2d(in_channels, 160, kernel_size=1),  # Tăng lên 160\n",
    "        )\n",
    "\n",
    "    def forward(self, x):\n",
    "        b1 = self.branch1x1(x)\n",
    "        b2 = self.branch3x3(x)\n",
    "        b3 = self.branch_pool(x)\n",
    "        return torch.cat([b1, b2, b3], dim=1)  # Output shape: (B, 512, H, W)\n",
    "\n",
    "\n",
    "# patch embedding: split patch -> Linear\n",
    "class PatchEmbedding(nn.Module):\n",
    "    def __init__(self, in_channels, patch_size=5, emb_size=16):\n",
    "        super().__init__()\n",
    "        self.patch_size = patch_size\n",
    "        self.emb_size = emb_size\n",
    "        self.proj = nn.Linear(in_channels * patch_size * patch_size, emb_size)\n",
    "\n",
    "    def forward(self, x):\n",
    "        B, C, H, W = x.shape\n",
    "        x = x.unfold(2, self.patch_size, self.patch_size).unfold(3, self.patch_size, self.patch_size)\n",
    "        x = x.permute(0, 2, 3, 1, 4, 5).contiguous()\n",
    "        x = x.view(B, -1, C * self.patch_size * self.patch_size)\n",
    "        return self.proj(x)  # shape: (b,num patches,emb size)\n",
    "\n",
    "\n",
    "# -------- Transformer Encoder Block (ViT block) --------\n",
    "class TransformerBlock(nn.Module):\n",
    "    def __init__(self, emb_size=16, dropout=0.1):\n",
    "        super().__init__()\n",
    "        self.norm1 = nn.LayerNorm(emb_size)\n",
    "        self.attn = nn.MultiheadAttention(emb_size, num_heads=2, batch_first=True)\n",
    "        self.norm2 = nn.LayerNorm(emb_size)\n",
    "        self.mlp = nn.Sequential(\n",
    "            nn.Linear(emb_size, emb_size * 2),\n",
    "            nn.GELU(),\n",
    "            nn.Linear(emb_size * 2, emb_size),\n",
    "            nn.Dropout(dropout)\n",
    "        )\n",
    "\n",
    "    def forward(self, x):\n",
    "        x_attn, _ = self.attn(self.norm1(x), self.norm1(x), self.norm1(x))\n",
    "        x = x + x_attn\n",
    "        x = x + self.mlp(self.norm2(x))\n",
    "        return x\n",
    "\n",
    "\n",
    "# -------- PlantXViT Model --------\n",
    "class PlantXViT(nn.Module):\n",
    "    def __init__(self, num_classes=4, patch_size=5, emb_size=16, num_blocks=4, dropout=0.1):\n",
    "        super().__init__()\n",
    "\n",
    "        # VGG16 (2 blocks)\n",
    "        vgg = models.vgg16(weights=VGG16_Weights.DEFAULT)\n",
    "        self.vgg_block = nn.Sequential(*list(vgg.features[:10]))\n",
    "        # self.vgg_block = nn.Sequential(*vgg[:10])  # output: (B, 128, 56, 56)\n",
    "\n",
    "        # Inception-like block → (B, 384, 56, 56)\n",
    "        self.inception = InceptionBlock(in_channels=128)\n",
    "\n",
    "        # Patch Embedding → (B, 121, 16)\n",
    "        # self.patch_embed = PatchEmbedding(in_channels=384, patch_size=patch_size, emb_size=emb_size)\n",
    "        self.patch_embed = PatchEmbedding(in_channels=512, patch_size=patch_size, emb_size=emb_size)\n",
    "\n",
    "        # Transformer blocks\n",
    "        self.transformer = nn.Sequential(*[TransformerBlock(emb_size, dropout) for _ in range(num_blocks)])\n",
    "\n",
    "        # Classification head\n",
    "        self.norm = nn.LayerNorm(emb_size)\n",
    "        self.global_pool = nn.AdaptiveAvgPool1d(1)  # (B, emb_size, 1)\n",
    "        self.classifier = nn.Linear(emb_size, num_classes)\n",
    "\n",
    "    def forward(self, x):\n",
    "        x = self.vgg_block(x)  # (B, 128, 56, 56)\n",
    "        x = self.inception(x)  # (B, 384, 56, 56)\n",
    "        x = self.patch_embed(x)  # (B, 121, 16)\n",
    "        x = self.transformer(x)  # (B, 121, 16)\n",
    "        x = self.norm(x)  # (B, 121, 16)\n",
    "        x = x.permute(0, 2, 1)  # (B, 16, 121)\n",
    "        x = self.global_pool(x).squeeze(-1)  # (B, 16)\n",
    "        return self.classifier(x)  # (B, num_classes)\n"
   ],
   "metadata": {
    "trusted": true,
    "execution": {
     "iopub.status.busy": "2025-06-10T04:01:55.010288Z",
     "iopub.execute_input": "2025-06-10T04:01:55.010461Z",
     "iopub.status.idle": "2025-06-10T04:01:55.023258Z",
     "shell.execute_reply.started": "2025-06-10T04:01:55.010446Z",
     "shell.execute_reply": "2025-06-10T04:01:55.022507Z"
    },
    "id": "Vq6_6t_MmYzr"
   },
   "outputs": [],
   "execution_count": 39
  },
  {
   "cell_type": "code",
   "source": [
    "model = PlantXViT(num_classes=93)\n",
    "criterion=nn.CrossEntropyLoss()"
   ],
   "metadata": {
    "trusted": true,
    "execution": {
     "iopub.status.busy": "2025-06-10T04:01:55.025346Z",
     "iopub.execute_input": "2025-06-10T04:01:55.025571Z",
     "iopub.status.idle": "2025-06-10T04:01:59.478735Z",
     "shell.execute_reply.started": "2025-06-10T04:01:55.025552Z",
     "shell.execute_reply": "2025-06-10T04:01:59.477933Z"
    },
    "id": "aLzFQHt1mYzs"
   },
   "outputs": [],
   "execution_count": 40
  },
  {
   "cell_type": "markdown",
   "source": [
    "training from here"
   ],
   "metadata": {
    "id": "qEj12dNhmYzs"
   }
  },
  {
   "cell_type": "code",
   "source": [
    "!cat utils/config_loader.py"
   ],
   "metadata": {
    "trusted": true,
    "execution": {
     "iopub.status.busy": "2025-06-10T04:01:59.479581Z",
     "iopub.execute_input": "2025-06-10T04:01:59.479840Z",
     "iopub.status.idle": "2025-06-10T04:01:59.608800Z",
     "shell.execute_reply.started": "2025-06-10T04:01:59.479815Z",
     "shell.execute_reply": "2025-06-10T04:01:59.608090Z"
    },
    "colab": {
     "base_uri": "https://localhost:8080/"
    },
    "id": "2ubPM8OemYzs",
    "outputId": "45d30e61-07c6-4b0c-ca45-b14690f1c290"
   },
   "outputs": [
    {
     "output_type": "stream",
     "name": "stdout",
     "text": [
      "import yaml\n",
      "\n",
      "\n",
      "def load_config(path=\"../configs/config.yaml\"):\n",
      "    with open(path, \"r\") as f:\n",
      "        return yaml.safe_load(f)\n"
     ]
    }
   ],
   "execution_count": 10
  },
  {
   "cell_type": "code",
   "source": [
    "from utils.config_loader import load_config\n",
    "config=load_config('./configs/config.yaml')"
   ],
   "metadata": {
    "trusted": true,
    "execution": {
     "iopub.status.busy": "2025-06-10T04:01:59.609706Z",
     "iopub.execute_input": "2025-06-10T04:01:59.609934Z",
     "iopub.status.idle": "2025-06-10T04:01:59.686464Z",
     "shell.execute_reply.started": "2025-06-10T04:01:59.609910Z",
     "shell.execute_reply": "2025-06-10T04:01:59.685938Z"
    },
    "id": "xCux_9JimYzt"
   },
   "outputs": [],
   "execution_count": 41
  },
  {
   "cell_type": "code",
   "source": [
    "print(config['output']['embrapa']['model_path'])"
   ],
   "metadata": {
    "trusted": true,
    "execution": {
     "iopub.status.busy": "2025-06-10T04:01:59.687140Z",
     "iopub.execute_input": "2025-06-10T04:01:59.687355Z",
     "iopub.status.idle": "2025-06-10T04:01:59.691591Z",
     "shell.execute_reply.started": "2025-06-10T04:01:59.687339Z",
     "shell.execute_reply": "2025-06-10T04:01:59.690807Z"
    },
    "colab": {
     "base_uri": "https://localhost:8080/"
    },
    "id": "p5b9mdG-mYzt",
    "outputId": "d0bf2b7b-bbd9-448f-ba9e-7cf5a2cb3227"
   },
   "outputs": [
    {
     "output_type": "stream",
     "name": "stdout",
     "text": [
      "./outputs/embrapa/models/plantxvit_best.pth\n"
     ]
    }
   ],
   "execution_count": 42
  },
  {
   "cell_type": "code",
   "source": [
    "import os\n",
    "\n",
    "# ...\n",
    "\n",
    "MODEL_PATH = \"./outputs/embrapa/models/plantxvit_best.pth\"\n",
    "\n",
    "# Tạo thư mục nếu chưa tồn tại\n",
    "os.makedirs(os.path.dirname(MODEL_PATH), exist_ok=True)\n"
   ],
   "metadata": {
    "id": "t4kv6TYxokTC"
   },
   "execution_count": 46,
   "outputs": []
  },
  {
   "cell_type": "code",
   "source": [
    "!ls outputs/embrapa/models"
   ],
   "metadata": {
    "colab": {
     "base_uri": "https://localhost:8080/"
    },
    "id": "A4YoyGyKmjoJ",
    "outputId": "0b8852fb-5e67-4c0e-dcf1-9cfd57055ebf"
   },
   "execution_count": 44,
   "outputs": [
    {
     "output_type": "stream",
     "name": "stdout",
     "text": [
      "plantxvit_best.pth\n"
     ]
    }
   ]
  },
  {
   "cell_type": "code",
   "source": [
    "DATA_DIR=root_dir\n",
    "BATCH_SIZE=16\n",
    "EPOCHS=50\n",
    "LR=1e-4\n",
    "NUM_CLASSES=93\n",
    "DEVICE=torch.device('cuda')\n",
    "MODEL_PATH=config['output']['embrapa']['model_path']"
   ],
   "metadata": {
    "trusted": true,
    "execution": {
     "iopub.status.busy": "2025-06-10T04:05:10.357522Z",
     "iopub.execute_input": "2025-06-10T04:05:10.357986Z",
     "iopub.status.idle": "2025-06-10T04:05:10.361807Z",
     "shell.execute_reply.started": "2025-06-10T04:05:10.357960Z",
     "shell.execute_reply": "2025-06-10T04:05:10.361040Z"
    },
    "id": "xVShgD6FmYzt"
   },
   "outputs": [],
   "execution_count": 45
  },
  {
   "cell_type": "code",
   "source": [
    "import torch\n",
    "import torch.nn as nn\n",
    "import torch.optim as optim\n",
    "from torchvision import datasets, transforms\n",
    "from torch.utils.data import DataLoader\n",
    "import os\n",
    "from tqdm import tqdm"
   ],
   "metadata": {
    "trusted": true,
    "execution": {
     "iopub.status.busy": "2025-06-10T04:05:12.588591Z",
     "iopub.execute_input": "2025-06-10T04:05:12.588870Z",
     "iopub.status.idle": "2025-06-10T04:05:12.592739Z",
     "shell.execute_reply.started": "2025-06-10T04:05:12.588850Z",
     "shell.execute_reply": "2025-06-10T04:05:12.592179Z"
    },
    "id": "8l7FQTSxmYzt"
   },
   "outputs": [],
   "execution_count": 47
  },
  {
   "cell_type": "code",
   "source": [
    "\n",
    "model.to(DEVICE)\n",
    "optimizer = optim.Adam(model.parameters(), lr=1e-4, weight_decay=1e-4)"
   ],
   "metadata": {
    "trusted": true,
    "execution": {
     "iopub.status.busy": "2025-06-10T04:05:13.886882Z",
     "iopub.execute_input": "2025-06-10T04:05:13.887174Z",
     "iopub.status.idle": "2025-06-10T04:05:13.893918Z",
     "shell.execute_reply.started": "2025-06-10T04:05:13.887152Z",
     "shell.execute_reply": "2025-06-10T04:05:13.893289Z"
    },
    "id": "ZUo_iCiRmYzt"
   },
   "outputs": [],
   "execution_count": 48
  },
  {
   "cell_type": "code",
   "source": [
    "def train_one_epoch(model, loader, optimizer, criterion):\n",
    "    model.train()\n",
    "    running_loss, correct, total = 0, 0, 0\n",
    "\n",
    "    for inputs, labels in tqdm(loader, desc=\"Training\"):\n",
    "        inputs, labels = inputs.to(DEVICE), labels.to(DEVICE)\n",
    "\n",
    "        optimizer.zero_grad()\n",
    "        outputs = model(inputs)\n",
    "        loss = criterion(outputs, labels)\n",
    "        loss.backward()\n",
    "        optimizer.step()\n",
    "\n",
    "        running_loss += loss.item() * inputs.size(0)\n",
    "        _, preds = torch.max(outputs, 1)\n",
    "        correct += (preds == labels).sum().item()\n",
    "        total += labels.size(0)\n",
    "\n",
    "    avg_loss = running_loss / total\n",
    "    acc = correct / total\n",
    "    return avg_loss, acc\n",
    "\n",
    "\n"
   ],
   "metadata": {
    "trusted": true,
    "execution": {
     "iopub.status.busy": "2025-06-10T04:05:15.491537Z",
     "iopub.execute_input": "2025-06-10T04:05:15.492185Z",
     "iopub.status.idle": "2025-06-10T04:05:15.497076Z",
     "shell.execute_reply.started": "2025-06-10T04:05:15.492163Z",
     "shell.execute_reply": "2025-06-10T04:05:15.496342Z"
    },
    "id": "1hQSU41nmYzu"
   },
   "outputs": [],
   "execution_count": 49
  },
  {
   "cell_type": "code",
   "source": [
    "def evaluate(model, loader, criterion):\n",
    "    model.eval()\n",
    "    running_loss, correct, total = 0, 0, 0\n",
    "\n",
    "    with torch.no_grad():\n",
    "        for inputs, labels in tqdm(loader, desc=\"Evaluating\"):\n",
    "            inputs, labels = inputs.to(DEVICE), labels.to(DEVICE)\n",
    "            outputs = model(inputs)\n",
    "            loss = criterion(outputs, labels)\n",
    "\n",
    "            running_loss += loss.item() * inputs.size(0)\n",
    "            _, preds = torch.max(outputs, 1)\n",
    "            correct += (preds == labels).sum().item()\n",
    "            total += labels.size(0)\n",
    "\n",
    "    avg_loss = running_loss / total\n",
    "    acc = correct / total\n",
    "    return avg_loss, acc\n"
   ],
   "metadata": {
    "trusted": true,
    "execution": {
     "iopub.status.busy": "2025-06-10T04:05:17.261207Z",
     "iopub.execute_input": "2025-06-10T04:05:17.261715Z",
     "iopub.status.idle": "2025-06-10T04:05:17.266438Z",
     "shell.execute_reply.started": "2025-06-10T04:05:17.261693Z",
     "shell.execute_reply": "2025-06-10T04:05:17.265736Z"
    },
    "id": "xTu4nGkHmYzu"
   },
   "outputs": [],
   "execution_count": 50
  },
  {
   "cell_type": "code",
   "source": [
    "best_val_acc = 0\n",
    "patience,wait=5,0\n",
    "\n",
    "for epoch in range(EPOCHS):\n",
    "    print(f\"\\nEpoch {epoch+1}/{EPOCHS}\")\n",
    "\n",
    "    train_loss, train_acc = train_one_epoch(model, train_loader, optimizer, criterion)\n",
    "    val_loss, val_acc = evaluate(model, val_loader, criterion)\n",
    "\n",
    "    print(f\"Train Loss: {train_loss:.4f} | Acc: {train_acc:.4f}\")\n",
    "    print(f\"Val   Loss: {val_loss:.4f} | Acc: {val_acc:.4f}\")\n",
    "\n",
    "    # Save best model\n",
    "    if val_acc > best_val_acc:\n",
    "        best_val_acc = val_acc\n",
    "        torch.save(model.state_dict(), MODEL_PATH)\n",
    "        print(f\"✅ Saved best model to {MODEL_PATH}\")\n",
    "        wait=0\n",
    "    else:\n",
    "      wait+=1\n",
    "      if wait>=patience:\n",
    "        print(f\"Early stopping at epoch {epoch+1}\")\n",
    "        break\n"
   ],
   "metadata": {
    "trusted": true,
    "execution": {
     "iopub.status.busy": "2025-06-10T04:05:19.130392Z",
     "iopub.execute_input": "2025-06-10T04:05:19.131094Z",
     "iopub.status.idle": "2025-06-10T04:10:27.399059Z",
     "shell.execute_reply.started": "2025-06-10T04:05:19.131060Z",
     "shell.execute_reply": "2025-06-10T04:10:27.397965Z"
    },
    "colab": {
     "base_uri": "https://localhost:8080/"
    },
    "id": "zV4-dwWomYzu",
    "outputId": "24315104-f84e-4619-dbfd-c8061c071421"
   },
   "outputs": [
    {
     "output_type": "stream",
     "name": "stdout",
     "text": [
      "\n",
      "Epoch 1/50\n"
     ]
    },
    {
     "output_type": "stream",
     "name": "stderr",
     "text": [
      "Training: 100%|██████████| 1851/1851 [01:15<00:00, 24.49it/s]\n",
      "Evaluating: 100%|██████████| 466/466 [00:09<00:00, 48.84it/s]\n"
     ]
    },
    {
     "output_type": "stream",
     "name": "stdout",
     "text": [
      "Train Loss: 3.3801 | Acc: 0.3026\n",
      "Val   Loss: 2.7352 | Acc: 0.4011\n",
      "✅ Saved best model to ./outputs/embrapa/models/plantxvit_best.pth\n",
      "\n",
      "Epoch 2/50\n"
     ]
    },
    {
     "output_type": "stream",
     "name": "stderr",
     "text": [
      "Training: 100%|██████████| 1851/1851 [01:17<00:00, 23.93it/s]\n",
      "Evaluating: 100%|██████████| 466/466 [00:09<00:00, 49.20it/s]\n"
     ]
    },
    {
     "output_type": "stream",
     "name": "stdout",
     "text": [
      "Train Loss: 2.3547 | Acc: 0.4647\n",
      "Val   Loss: 2.0359 | Acc: 0.5218\n",
      "✅ Saved best model to ./outputs/embrapa/models/plantxvit_best.pth\n",
      "\n",
      "Epoch 3/50\n"
     ]
    },
    {
     "output_type": "stream",
     "name": "stderr",
     "text": [
      "Training: 100%|██████████| 1851/1851 [01:18<00:00, 23.59it/s]\n",
      "Evaluating: 100%|██████████| 466/466 [00:09<00:00, 49.17it/s]\n"
     ]
    },
    {
     "output_type": "stream",
     "name": "stdout",
     "text": [
      "Train Loss: 1.8078 | Acc: 0.5763\n",
      "Val   Loss: 1.6736 | Acc: 0.6189\n",
      "✅ Saved best model to ./outputs/embrapa/models/plantxvit_best.pth\n",
      "\n",
      "Epoch 4/50\n"
     ]
    },
    {
     "output_type": "stream",
     "name": "stderr",
     "text": [
      "Training: 100%|██████████| 1851/1851 [01:17<00:00, 23.99it/s]\n",
      "Evaluating: 100%|██████████| 466/466 [00:09<00:00, 48.52it/s]\n"
     ]
    },
    {
     "output_type": "stream",
     "name": "stdout",
     "text": [
      "Train Loss: 1.4754 | Acc: 0.6446\n",
      "Val   Loss: 1.3858 | Acc: 0.6567\n",
      "✅ Saved best model to ./outputs/embrapa/models/plantxvit_best.pth\n",
      "\n",
      "Epoch 5/50\n"
     ]
    },
    {
     "output_type": "stream",
     "name": "stderr",
     "text": [
      "Training: 100%|██████████| 1851/1851 [01:15<00:00, 24.38it/s]\n",
      "Evaluating: 100%|██████████| 466/466 [00:09<00:00, 48.57it/s]\n"
     ]
    },
    {
     "output_type": "stream",
     "name": "stdout",
     "text": [
      "Train Loss: 1.2590 | Acc: 0.6840\n",
      "Val   Loss: 1.2172 | Acc: 0.6944\n",
      "✅ Saved best model to ./outputs/embrapa/models/plantxvit_best.pth\n",
      "\n",
      "Epoch 6/50\n"
     ]
    },
    {
     "output_type": "stream",
     "name": "stderr",
     "text": [
      "Training: 100%|██████████| 1851/1851 [01:16<00:00, 24.21it/s]\n",
      "Evaluating: 100%|██████████| 466/466 [00:09<00:00, 48.84it/s]\n"
     ]
    },
    {
     "output_type": "stream",
     "name": "stdout",
     "text": [
      "Train Loss: 1.1021 | Acc: 0.7181\n",
      "Val   Loss: 1.0689 | Acc: 0.7154\n",
      "✅ Saved best model to ./outputs/embrapa/models/plantxvit_best.pth\n",
      "\n",
      "Epoch 7/50\n"
     ]
    },
    {
     "output_type": "stream",
     "name": "stderr",
     "text": [
      "Training: 100%|██████████| 1851/1851 [01:16<00:00, 24.28it/s]\n",
      "Evaluating: 100%|██████████| 466/466 [00:09<00:00, 49.79it/s]\n"
     ]
    },
    {
     "output_type": "stream",
     "name": "stdout",
     "text": [
      "Train Loss: 0.9837 | Acc: 0.7430\n",
      "Val   Loss: 0.9726 | Acc: 0.7323\n",
      "✅ Saved best model to ./outputs/embrapa/models/plantxvit_best.pth\n",
      "\n",
      "Epoch 8/50\n"
     ]
    },
    {
     "output_type": "stream",
     "name": "stderr",
     "text": [
      "Training: 100%|██████████| 1851/1851 [01:15<00:00, 24.42it/s]\n",
      "Evaluating: 100%|██████████| 466/466 [00:09<00:00, 48.73it/s]\n"
     ]
    },
    {
     "output_type": "stream",
     "name": "stdout",
     "text": [
      "Train Loss: 0.8982 | Acc: 0.7629\n",
      "Val   Loss: 0.9167 | Acc: 0.7486\n",
      "✅ Saved best model to ./outputs/embrapa/models/plantxvit_best.pth\n",
      "\n",
      "Epoch 9/50\n"
     ]
    },
    {
     "output_type": "stream",
     "name": "stderr",
     "text": [
      "Training: 100%|██████████| 1851/1851 [01:17<00:00, 23.78it/s]\n",
      "Evaluating: 100%|██████████| 466/466 [00:09<00:00, 49.00it/s]\n"
     ]
    },
    {
     "output_type": "stream",
     "name": "stdout",
     "text": [
      "Train Loss: 0.8217 | Acc: 0.7797\n",
      "Val   Loss: 0.8974 | Acc: 0.7493\n",
      "✅ Saved best model to ./outputs/embrapa/models/plantxvit_best.pth\n",
      "\n",
      "Epoch 10/50\n"
     ]
    },
    {
     "output_type": "stream",
     "name": "stderr",
     "text": [
      "Training: 100%|██████████| 1851/1851 [01:16<00:00, 24.28it/s]\n",
      "Evaluating: 100%|██████████| 466/466 [00:09<00:00, 48.78it/s]\n"
     ]
    },
    {
     "output_type": "stream",
     "name": "stdout",
     "text": [
      "Train Loss: 0.7647 | Acc: 0.7932\n",
      "Val   Loss: 0.7873 | Acc: 0.7827\n",
      "✅ Saved best model to ./outputs/embrapa/models/plantxvit_best.pth\n",
      "\n",
      "Epoch 11/50\n"
     ]
    },
    {
     "output_type": "stream",
     "name": "stderr",
     "text": [
      "Training: 100%|██████████| 1851/1851 [01:15<00:00, 24.64it/s]\n",
      "Evaluating: 100%|██████████| 466/466 [00:09<00:00, 48.71it/s]\n"
     ]
    },
    {
     "output_type": "stream",
     "name": "stdout",
     "text": [
      "Train Loss: 0.7029 | Acc: 0.8075\n",
      "Val   Loss: 0.7190 | Acc: 0.8034\n",
      "✅ Saved best model to ./outputs/embrapa/models/plantxvit_best.pth\n",
      "\n",
      "Epoch 12/50\n"
     ]
    },
    {
     "output_type": "stream",
     "name": "stderr",
     "text": [
      "Training: 100%|██████████| 1851/1851 [01:16<00:00, 24.36it/s]\n",
      "Evaluating: 100%|██████████| 466/466 [00:09<00:00, 48.29it/s]\n"
     ]
    },
    {
     "output_type": "stream",
     "name": "stdout",
     "text": [
      "Train Loss: 0.6636 | Acc: 0.8162\n",
      "Val   Loss: 0.7502 | Acc: 0.7901\n",
      "\n",
      "Epoch 13/50\n"
     ]
    },
    {
     "output_type": "stream",
     "name": "stderr",
     "text": [
      "Training: 100%|██████████| 1851/1851 [01:15<00:00, 24.41it/s]\n",
      "Evaluating: 100%|██████████| 466/466 [00:09<00:00, 48.16it/s]\n"
     ]
    },
    {
     "output_type": "stream",
     "name": "stdout",
     "text": [
      "Train Loss: 0.6201 | Acc: 0.8264\n",
      "Val   Loss: 0.7097 | Acc: 0.7995\n",
      "\n",
      "Epoch 14/50\n"
     ]
    },
    {
     "output_type": "stream",
     "name": "stderr",
     "text": [
      "Training: 100%|██████████| 1851/1851 [01:17<00:00, 23.86it/s]\n",
      "Evaluating: 100%|██████████| 466/466 [00:09<00:00, 49.47it/s]\n"
     ]
    },
    {
     "output_type": "stream",
     "name": "stdout",
     "text": [
      "Train Loss: 0.5852 | Acc: 0.8364\n",
      "Val   Loss: 0.6622 | Acc: 0.8064\n",
      "✅ Saved best model to ./outputs/embrapa/models/plantxvit_best.pth\n",
      "\n",
      "Epoch 15/50\n"
     ]
    },
    {
     "output_type": "stream",
     "name": "stderr",
     "text": [
      "Training: 100%|██████████| 1851/1851 [01:17<00:00, 23.87it/s]\n",
      "Evaluating: 100%|██████████| 466/466 [00:09<00:00, 49.04it/s]\n"
     ]
    },
    {
     "output_type": "stream",
     "name": "stdout",
     "text": [
      "Train Loss: 0.5574 | Acc: 0.8414\n",
      "Val   Loss: 0.6192 | Acc: 0.8229\n",
      "✅ Saved best model to ./outputs/embrapa/models/plantxvit_best.pth\n",
      "\n",
      "Epoch 16/50\n"
     ]
    },
    {
     "output_type": "stream",
     "name": "stderr",
     "text": [
      "Training: 100%|██████████| 1851/1851 [01:17<00:00, 23.96it/s]\n",
      "Evaluating: 100%|██████████| 466/466 [00:09<00:00, 48.89it/s]\n"
     ]
    },
    {
     "output_type": "stream",
     "name": "stdout",
     "text": [
      "Train Loss: 0.5315 | Acc: 0.8470\n",
      "Val   Loss: 0.6362 | Acc: 0.8170\n",
      "\n",
      "Epoch 17/50\n"
     ]
    },
    {
     "output_type": "stream",
     "name": "stderr",
     "text": [
      "Training: 100%|██████████| 1851/1851 [01:18<00:00, 23.48it/s]\n",
      "Evaluating: 100%|██████████| 466/466 [00:09<00:00, 47.78it/s]\n"
     ]
    },
    {
     "output_type": "stream",
     "name": "stdout",
     "text": [
      "Train Loss: 0.5067 | Acc: 0.8536\n",
      "Val   Loss: 0.5998 | Acc: 0.8266\n",
      "✅ Saved best model to ./outputs/embrapa/models/plantxvit_best.pth\n",
      "\n",
      "Epoch 18/50\n"
     ]
    },
    {
     "output_type": "stream",
     "name": "stderr",
     "text": [
      "Training: 100%|██████████| 1851/1851 [01:16<00:00, 24.05it/s]\n",
      "Evaluating: 100%|██████████| 466/466 [00:09<00:00, 48.14it/s]\n"
     ]
    },
    {
     "output_type": "stream",
     "name": "stdout",
     "text": [
      "Train Loss: 0.4833 | Acc: 0.8605\n",
      "Val   Loss: 0.6043 | Acc: 0.8231\n",
      "\n",
      "Epoch 19/50\n"
     ]
    },
    {
     "output_type": "stream",
     "name": "stderr",
     "text": [
      "Training: 100%|██████████| 1851/1851 [01:18<00:00, 23.59it/s]\n",
      "Evaluating: 100%|██████████| 466/466 [00:09<00:00, 48.20it/s]\n"
     ]
    },
    {
     "output_type": "stream",
     "name": "stdout",
     "text": [
      "Train Loss: 0.4694 | Acc: 0.8654\n",
      "Val   Loss: 0.5709 | Acc: 0.8341\n",
      "✅ Saved best model to ./outputs/embrapa/models/plantxvit_best.pth\n",
      "\n",
      "Epoch 20/50\n"
     ]
    },
    {
     "output_type": "stream",
     "name": "stderr",
     "text": [
      "Training: 100%|██████████| 1851/1851 [01:15<00:00, 24.49it/s]\n",
      "Evaluating: 100%|██████████| 466/466 [00:09<00:00, 48.12it/s]\n"
     ]
    },
    {
     "output_type": "stream",
     "name": "stdout",
     "text": [
      "Train Loss: 0.4461 | Acc: 0.8701\n",
      "Val   Loss: 0.5699 | Acc: 0.8346\n",
      "✅ Saved best model to ./outputs/embrapa/models/plantxvit_best.pth\n",
      "\n",
      "Epoch 21/50\n"
     ]
    },
    {
     "output_type": "stream",
     "name": "stderr",
     "text": [
      "Training: 100%|██████████| 1851/1851 [01:16<00:00, 24.05it/s]\n",
      "Evaluating: 100%|██████████| 466/466 [00:09<00:00, 49.72it/s]\n"
     ]
    },
    {
     "output_type": "stream",
     "name": "stdout",
     "text": [
      "Train Loss: 0.4284 | Acc: 0.8751\n",
      "Val   Loss: 0.6039 | Acc: 0.8237\n",
      "\n",
      "Epoch 22/50\n"
     ]
    },
    {
     "output_type": "stream",
     "name": "stderr",
     "text": [
      "Training: 100%|██████████| 1851/1851 [01:17<00:00, 23.88it/s]\n",
      "Evaluating: 100%|██████████| 466/466 [00:09<00:00, 48.53it/s]\n"
     ]
    },
    {
     "output_type": "stream",
     "name": "stdout",
     "text": [
      "Train Loss: 0.4131 | Acc: 0.8790\n",
      "Val   Loss: 0.5662 | Acc: 0.8341\n",
      "\n",
      "Epoch 23/50\n"
     ]
    },
    {
     "output_type": "stream",
     "name": "stderr",
     "text": [
      "Training: 100%|██████████| 1851/1851 [01:17<00:00, 23.85it/s]\n",
      "Evaluating: 100%|██████████| 466/466 [00:09<00:00, 48.42it/s]\n"
     ]
    },
    {
     "output_type": "stream",
     "name": "stdout",
     "text": [
      "Train Loss: 0.4023 | Acc: 0.8807\n",
      "Val   Loss: 0.5573 | Acc: 0.8283\n",
      "\n",
      "Epoch 24/50\n"
     ]
    },
    {
     "output_type": "stream",
     "name": "stderr",
     "text": [
      "Training: 100%|██████████| 1851/1851 [01:16<00:00, 24.17it/s]\n",
      "Evaluating: 100%|██████████| 466/466 [00:09<00:00, 49.38it/s]\n"
     ]
    },
    {
     "output_type": "stream",
     "name": "stdout",
     "text": [
      "Train Loss: 0.3915 | Acc: 0.8835\n",
      "Val   Loss: 0.5290 | Acc: 0.8425\n",
      "✅ Saved best model to ./outputs/embrapa/models/plantxvit_best.pth\n",
      "\n",
      "Epoch 25/50\n"
     ]
    },
    {
     "output_type": "stream",
     "name": "stderr",
     "text": [
      "Training: 100%|██████████| 1851/1851 [01:16<00:00, 24.35it/s]\n",
      "Evaluating: 100%|██████████| 466/466 [00:09<00:00, 49.24it/s]\n"
     ]
    },
    {
     "output_type": "stream",
     "name": "stdout",
     "text": [
      "Train Loss: 0.3735 | Acc: 0.8900\n",
      "Val   Loss: 0.5146 | Acc: 0.8510\n",
      "✅ Saved best model to ./outputs/embrapa/models/plantxvit_best.pth\n",
      "\n",
      "Epoch 26/50\n"
     ]
    },
    {
     "output_type": "stream",
     "name": "stderr",
     "text": [
      "Training: 100%|██████████| 1851/1851 [01:17<00:00, 23.94it/s]\n",
      "Evaluating: 100%|██████████| 466/466 [00:09<00:00, 49.49it/s]\n"
     ]
    },
    {
     "output_type": "stream",
     "name": "stdout",
     "text": [
      "Train Loss: 0.3659 | Acc: 0.8924\n",
      "Val   Loss: 0.5108 | Acc: 0.8506\n",
      "\n",
      "Epoch 27/50\n"
     ]
    },
    {
     "output_type": "stream",
     "name": "stderr",
     "text": [
      "Training: 100%|██████████| 1851/1851 [01:16<00:00, 24.20it/s]\n",
      "Evaluating: 100%|██████████| 466/466 [00:09<00:00, 48.27it/s]\n"
     ]
    },
    {
     "output_type": "stream",
     "name": "stdout",
     "text": [
      "Train Loss: 0.3527 | Acc: 0.8951\n",
      "Val   Loss: 0.5477 | Acc: 0.8366\n",
      "\n",
      "Epoch 28/50\n"
     ]
    },
    {
     "output_type": "stream",
     "name": "stderr",
     "text": [
      "Training: 100%|██████████| 1851/1851 [01:17<00:00, 23.86it/s]\n",
      "Evaluating: 100%|██████████| 466/466 [00:09<00:00, 49.02it/s]\n"
     ]
    },
    {
     "output_type": "stream",
     "name": "stdout",
     "text": [
      "Train Loss: 0.3394 | Acc: 0.8998\n",
      "Val   Loss: 0.5301 | Acc: 0.8449\n",
      "\n",
      "Epoch 29/50\n"
     ]
    },
    {
     "output_type": "stream",
     "name": "stderr",
     "text": [
      "Training: 100%|██████████| 1851/1851 [01:17<00:00, 23.83it/s]\n",
      "Evaluating: 100%|██████████| 466/466 [00:09<00:00, 48.95it/s]\n"
     ]
    },
    {
     "output_type": "stream",
     "name": "stdout",
     "text": [
      "Train Loss: 0.3372 | Acc: 0.8993\n",
      "Val   Loss: 0.5292 | Acc: 0.8449\n",
      "\n",
      "Epoch 30/50\n"
     ]
    },
    {
     "output_type": "stream",
     "name": "stderr",
     "text": [
      "Training: 100%|██████████| 1851/1851 [01:17<00:00, 23.84it/s]\n",
      "Evaluating: 100%|██████████| 466/466 [00:09<00:00, 48.56it/s]\n"
     ]
    },
    {
     "output_type": "stream",
     "name": "stdout",
     "text": [
      "Train Loss: 0.3245 | Acc: 0.9036\n",
      "Val   Loss: 0.5124 | Acc: 0.8487\n",
      "Early stopping at epoch 30\n"
     ]
    }
   ],
   "execution_count": 51
  },
  {
   "metadata": {
    "jupyter": {
     "is_executing": true
    }
   },
   "cell_type": "code",
   "source": [
    "import re\n",
    "log_text=\"\"\"\n",
    "Epoch 1/50\n",
    "\n",
    "Training: 100%|██████████| 1851/1851 [01:15<00:00, 24.49it/s]\n",
    "Evaluating: 100%|██████████| 466/466 [00:09<00:00, 48.84it/s]\n",
    "\n",
    "Train Loss: 3.3801 | Acc: 0.3026\n",
    "Val   Loss: 2.7352 | Acc: 0.4011\n",
    "✅ Saved best model to ./outputs/embrapa/models/plantxvit_best.pth\n",
    "\n",
    "Epoch 2/50\n",
    "\n",
    "Training: 100%|██████████| 1851/1851 [01:17<00:00, 23.93it/s]\n",
    "Evaluating: 100%|██████████| 466/466 [00:09<00:00, 49.20it/s]\n",
    "\n",
    "Train Loss: 2.3547 | Acc: 0.4647\n",
    "Val   Loss: 2.0359 | Acc: 0.5218\n",
    "✅ Saved best model to ./outputs/embrapa/models/plantxvit_best.pth\n",
    "\n",
    "Epoch 3/50\n",
    "\n",
    "Training: 100%|██████████| 1851/1851 [01:18<00:00, 23.59it/s]\n",
    "Evaluating: 100%|██████████| 466/466 [00:09<00:00, 49.17it/s]\n",
    "\n",
    "Train Loss: 1.8078 | Acc: 0.5763\n",
    "Val   Loss: 1.6736 | Acc: 0.6189\n",
    "✅ Saved best model to ./outputs/embrapa/models/plantxvit_best.pth\n",
    "\n",
    "Epoch 4/50\n",
    "\n",
    "Training: 100%|██████████| 1851/1851 [01:17<00:00, 23.99it/s]\n",
    "Evaluating: 100%|██████████| 466/466 [00:09<00:00, 48.52it/s]\n",
    "\n",
    "Train Loss: 1.4754 | Acc: 0.6446\n",
    "Val   Loss: 1.3858 | Acc: 0.6567\n",
    "✅ Saved best model to ./outputs/embrapa/models/plantxvit_best.pth\n",
    "\n",
    "Epoch 5/50\n",
    "\n",
    "Training: 100%|██████████| 1851/1851 [01:15<00:00, 24.38it/s]\n",
    "Evaluating: 100%|██████████| 466/466 [00:09<00:00, 48.57it/s]\n",
    "\n",
    "Train Loss: 1.2590 | Acc: 0.6840\n",
    "Val   Loss: 1.2172 | Acc: 0.6944\n",
    "✅ Saved best model to ./outputs/embrapa/models/plantxvit_best.pth\n",
    "\n",
    "Epoch 6/50\n",
    "\n",
    "Training: 100%|██████████| 1851/1851 [01:16<00:00, 24.21it/s]\n",
    "Evaluating: 100%|██████████| 466/466 [00:09<00:00, 48.84it/s]\n",
    "\n",
    "Train Loss: 1.1021 | Acc: 0.7181\n",
    "Val   Loss: 1.0689 | Acc: 0.7154\n",
    "✅ Saved best model to ./outputs/embrapa/models/plantxvit_best.pth\n",
    "\n",
    "Epoch 7/50\n",
    "\n",
    "Training: 100%|██████████| 1851/1851 [01:16<00:00, 24.28it/s]\n",
    "Evaluating: 100%|██████████| 466/466 [00:09<00:00, 49.79it/s]\n",
    "\n",
    "Train Loss: 0.9837 | Acc: 0.7430\n",
    "Val   Loss: 0.9726 | Acc: 0.7323\n",
    "✅ Saved best model to ./outputs/embrapa/models/plantxvit_best.pth\n",
    "\n",
    "Epoch 8/50\n",
    "\n",
    "Training: 100%|██████████| 1851/1851 [01:15<00:00, 24.42it/s]\n",
    "Evaluating: 100%|██████████| 466/466 [00:09<00:00, 48.73it/s]\n",
    "\n",
    "Train Loss: 0.8982 | Acc: 0.7629\n",
    "Val   Loss: 0.9167 | Acc: 0.7486\n",
    "✅ Saved best model to ./outputs/embrapa/models/plantxvit_best.pth\n",
    "\n",
    "Epoch 9/50\n",
    "\n",
    "Training: 100%|██████████| 1851/1851 [01:17<00:00, 23.78it/s]\n",
    "Evaluating: 100%|██████████| 466/466 [00:09<00:00, 49.00it/s]\n",
    "\n",
    "Train Loss: 0.8217 | Acc: 0.7797\n",
    "Val   Loss: 0.8974 | Acc: 0.7493\n",
    "✅ Saved best model to ./outputs/embrapa/models/plantxvit_best.pth\n",
    "\n",
    "Epoch 10/50\n",
    "\n",
    "Training: 100%|██████████| 1851/1851 [01:16<00:00, 24.28it/s]\n",
    "Evaluating: 100%|██████████| 466/466 [00:09<00:00, 48.78it/s]\n",
    "\n",
    "Train Loss: 0.7647 | Acc: 0.7932\n",
    "Val   Loss: 0.7873 | Acc: 0.7827\n",
    "✅ Saved best model to ./outputs/embrapa/models/plantxvit_best.pth\n",
    "\n",
    "Epoch 11/50\n",
    "\n",
    "Training: 100%|██████████| 1851/1851 [01:15<00:00, 24.64it/s]\n",
    "Evaluating: 100%|██████████| 466/466 [00:09<00:00, 48.71it/s]\n",
    "\n",
    "Train Loss: 0.7029 | Acc: 0.8075\n",
    "Val   Loss: 0.7190 | Acc: 0.8034\n",
    "✅ Saved best model to ./outputs/embrapa/models/plantxvit_best.pth\n",
    "\n",
    "Epoch 12/50\n",
    "\n",
    "Training: 100%|██████████| 1851/1851 [01:16<00:00, 24.36it/s]\n",
    "Evaluating: 100%|██████████| 466/466 [00:09<00:00, 48.29it/s]\n",
    "\n",
    "Train Loss: 0.6636 | Acc: 0.8162\n",
    "Val   Loss: 0.7502 | Acc: 0.7901\n",
    "\n",
    "Epoch 13/50\n",
    "\n",
    "Training: 100%|██████████| 1851/1851 [01:15<00:00, 24.41it/s]\n",
    "Evaluating: 100%|██████████| 466/466 [00:09<00:00, 48.16it/s]\n",
    "\n",
    "Train Loss: 0.6201 | Acc: 0.8264\n",
    "Val   Loss: 0.7097 | Acc: 0.7995\n",
    "\n",
    "Epoch 14/50\n",
    "\n",
    "Training: 100%|██████████| 1851/1851 [01:17<00:00, 23.86it/s]\n",
    "Evaluating: 100%|██████████| 466/466 [00:09<00:00, 49.47it/s]\n",
    "\n",
    "Train Loss: 0.5852 | Acc: 0.8364\n",
    "Val   Loss: 0.6622 | Acc: 0.8064\n",
    "✅ Saved best model to ./outputs/embrapa/models/plantxvit_best.pth\n",
    "\n",
    "Epoch 15/50\n",
    "\n",
    "Training: 100%|██████████| 1851/1851 [01:17<00:00, 23.87it/s]\n",
    "Evaluating: 100%|██████████| 466/466 [00:09<00:00, 49.04it/s]\n",
    "\n",
    "Train Loss: 0.5574 | Acc: 0.8414\n",
    "Val   Loss: 0.6192 | Acc: 0.8229\n",
    "✅ Saved best model to ./outputs/embrapa/models/plantxvit_best.pth\n",
    "\n",
    "Epoch 16/50\n",
    "\n",
    "Training: 100%|██████████| 1851/1851 [01:17<00:00, 23.96it/s]\n",
    "Evaluating: 100%|██████████| 466/466 [00:09<00:00, 48.89it/s]\n",
    "\n",
    "Train Loss: 0.5315 | Acc: 0.8470\n",
    "Val   Loss: 0.6362 | Acc: 0.8170\n",
    "\n",
    "Epoch 17/50\n",
    "\n",
    "Training: 100%|██████████| 1851/1851 [01:18<00:00, 23.48it/s]\n",
    "Evaluating: 100%|██████████| 466/466 [00:09<00:00, 47.78it/s]\n",
    "\n",
    "Train Loss: 0.5067 | Acc: 0.8536\n",
    "Val   Loss: 0.5998 | Acc: 0.8266\n",
    "✅ Saved best model to ./outputs/embrapa/models/plantxvit_best.pth\n",
    "\n",
    "Epoch 18/50\n",
    "\n",
    "Training: 100%|██████████| 1851/1851 [01:16<00:00, 24.05it/s]\n",
    "Evaluating: 100%|██████████| 466/466 [00:09<00:00, 48.14it/s]\n",
    "\n",
    "Train Loss: 0.4833 | Acc: 0.8605\n",
    "Val   Loss: 0.6043 | Acc: 0.8231\n",
    "\n",
    "Epoch 19/50\n",
    "\n",
    "Training: 100%|██████████| 1851/1851 [01:18<00:00, 23.59it/s]\n",
    "Evaluating: 100%|██████████| 466/466 [00:09<00:00, 48.20it/s]\n",
    "\n",
    "Train Loss: 0.4694 | Acc: 0.8654\n",
    "Val   Loss: 0.5709 | Acc: 0.8341\n",
    "✅ Saved best model to ./outputs/embrapa/models/plantxvit_best.pth\n",
    "\n",
    "Epoch 20/50\n",
    "\n",
    "Training: 100%|██████████| 1851/1851 [01:15<00:00, 24.49it/s]\n",
    "Evaluating: 100%|██████████| 466/466 [00:09<00:00, 48.12it/s]\n",
    "\n",
    "Train Loss: 0.4461 | Acc: 0.8701\n",
    "Val   Loss: 0.5699 | Acc: 0.8346\n",
    "✅ Saved best model to ./outputs/embrapa/models/plantxvit_best.pth\n",
    "\n",
    "Epoch 21/50\n",
    "\n",
    "Training: 100%|██████████| 1851/1851 [01:16<00:00, 24.05it/s]\n",
    "Evaluating: 100%|██████████| 466/466 [00:09<00:00, 49.72it/s]\n",
    "\n",
    "Train Loss: 0.4284 | Acc: 0.8751\n",
    "Val   Loss: 0.6039 | Acc: 0.8237\n",
    "\n",
    "Epoch 22/50\n",
    "\n",
    "Training: 100%|██████████| 1851/1851 [01:17<00:00, 23.88it/s]\n",
    "Evaluating: 100%|██████████| 466/466 [00:09<00:00, 48.53it/s]\n",
    "\n",
    "Train Loss: 0.4131 | Acc: 0.8790\n",
    "Val   Loss: 0.5662 | Acc: 0.8341\n",
    "\n",
    "Epoch 23/50\n",
    "\n",
    "Training: 100%|██████████| 1851/1851 [01:17<00:00, 23.85it/s]\n",
    "Evaluating: 100%|██████████| 466/466 [00:09<00:00, 48.42it/s]\n",
    "\n",
    "Train Loss: 0.4023 | Acc: 0.8807\n",
    "Val   Loss: 0.5573 | Acc: 0.8283\n",
    "\n",
    "Epoch 24/50\n",
    "\n",
    "Training: 100%|██████████| 1851/1851 [01:16<00:00, 24.17it/s]\n",
    "Evaluating: 100%|██████████| 466/466 [00:09<00:00, 49.38it/s]\n",
    "\n",
    "Train Loss: 0.3915 | Acc: 0.8835\n",
    "Val   Loss: 0.5290 | Acc: 0.8425\n",
    "✅ Saved best model to ./outputs/embrapa/models/plantxvit_best.pth\n",
    "\n",
    "Epoch 25/50\n",
    "\n",
    "Training: 100%|██████████| 1851/1851 [01:16<00:00, 24.35it/s]\n",
    "Evaluating: 100%|██████████| 466/466 [00:09<00:00, 49.24it/s]\n",
    "\n",
    "Train Loss: 0.3735 | Acc: 0.8900\n",
    "Val   Loss: 0.5146 | Acc: 0.8510\n",
    "✅ Saved best model to ./outputs/embrapa/models/plantxvit_best.pth\n",
    "\n",
    "Epoch 26/50\n",
    "\n",
    "Training: 100%|██████████| 1851/1851 [01:17<00:00, 23.94it/s]\n",
    "Evaluating: 100%|██████████| 466/466 [00:09<00:00, 49.49it/s]\n",
    "\n",
    "Train Loss: 0.3659 | Acc: 0.8924\n",
    "Val   Loss: 0.5108 | Acc: 0.8506\n",
    "\n",
    "Epoch 27/50\n",
    "\n",
    "Training: 100%|██████████| 1851/1851 [01:16<00:00, 24.20it/s]\n",
    "Evaluating: 100%|██████████| 466/466 [00:09<00:00, 48.27it/s]\n",
    "\n",
    "Train Loss: 0.3527 | Acc: 0.8951\n",
    "Val   Loss: 0.5477 | Acc: 0.8366\n",
    "\n",
    "Epoch 28/50\n",
    "\n",
    "Training: 100%|██████████| 1851/1851 [01:17<00:00, 23.86it/s]\n",
    "Evaluating: 100%|██████████| 466/466 [00:09<00:00, 49.02it/s]\n",
    "\n",
    "Train Loss: 0.3394 | Acc: 0.8998\n",
    "Val   Loss: 0.5301 | Acc: 0.8449\n",
    "\n",
    "Epoch 29/50\n",
    "\n",
    "Training: 100%|██████████| 1851/1851 [01:17<00:00, 23.83it/s]\n",
    "Evaluating: 100%|██████████| 466/466 [00:09<00:00, 48.95it/s]\n",
    "\n",
    "Train Loss: 0.3372 | Acc: 0.8993\n",
    "Val   Loss: 0.5292 | Acc: 0.8449\n",
    "\n",
    "Epoch 30/50\n",
    "\n",
    "Training: 100%|██████████| 1851/1851 [01:17<00:00, 23.84it/s]\n",
    "Evaluating: 100%|██████████| 466/466 [00:09<00:00, 48.56it/s]\n",
    "\n",
    "Train Loss: 0.3245 | Acc: 0.9036\n",
    "Val   Loss: 0.5124 | Acc: 0.8487\n",
    "Early stopping at epoch 30\n",
    "\"\"\"\n",
    "\n",
    "# Tìm tất cả các dòng Train và Val\n",
    "train_lines = re.findall(r'Train Loss: ([\\d\\.]+) \\| Acc: ([\\d\\.]+)', log_text)\n",
    "val_lines = re.findall(r'Val\\s+Loss: ([\\d\\.]+) \\| Acc: ([\\d\\.]+)', log_text)\n",
    "\n",
    "# Tách ra các list số\n",
    "train_losses = [float(l[0]) for l in train_lines]\n",
    "train_accuracies = [float(l[1]) for l in train_lines]\n",
    "val_losses = [float(l[0]) for l in val_lines]\n",
    "val_accuracies = [float(l[1]) for l in val_lines]\n",
    "\n",
    "# In kiểm tra\n",
    "print(\"Epochs:\", len(train_losses))\n",
    "print(\"Train Loss (last):\", train_losses[-1])\n",
    "print(\"Val Accuracy (last):\", val_accuracies[-1])"
   ],
   "outputs": [],
   "execution_count": null
  }
 ]
}
