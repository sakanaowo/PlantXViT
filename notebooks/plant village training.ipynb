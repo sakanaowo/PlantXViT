{
  "nbformat": 4,
  "nbformat_minor": 0,
  "metadata": {
    "colab": {
      "provenance": [],
      "gpuType": "A100"
    },
    "kernelspec": {
      "name": "python3",
      "display_name": "Python 3"
    },
    "language_info": {
      "name": "python"
    },
    "accelerator": "GPU"
  },
  "cells": [
    {
      "cell_type": "code",
      "execution_count": 1,
      "metadata": {
        "colab": {
          "base_uri": "https://localhost:8080/"
        },
        "id": "QfStwpRHaFUs",
        "outputId": "1bbcc06a-89b7-4f4d-c0df-89aabe35dc2c"
      },
      "outputs": [
        {
          "output_type": "stream",
          "name": "stdout",
          "text": [
            "Cloning into 'PlantXViT'...\n",
            "remote: Enumerating objects: 104802, done.\u001b[K\n",
            "remote: Total 104802 (delta 0), reused 0 (delta 0), pack-reused 104802 (from 1)\u001b[K\n",
            "Receiving objects: 100% (104802/104802), 2.45 GiB | 60.85 MiB/s, done.\n",
            "Resolving deltas: 100% (30441/30441), done.\n",
            "Updating files: 100% (104346/104346), done.\n"
          ]
        }
      ],
      "source": [
        "!git clone https://github.com/sakanaowo/PlantXViT"
      ]
    },
    {
      "cell_type": "code",
      "source": [
        "%cd PlantXViT"
      ],
      "metadata": {
        "colab": {
          "base_uri": "https://localhost:8080/"
        },
        "id": "9hXog2CAyXUk",
        "outputId": "6fb1d72d-f8af-4812-b5be-c2257b2311c5"
      },
      "execution_count": 2,
      "outputs": [
        {
          "output_type": "stream",
          "name": "stdout",
          "text": [
            "/content/PlantXViT\n"
          ]
        }
      ]
    },
    {
      "cell_type": "code",
      "source": [
        "from torchvision import datasets, transforms\n",
        "from torch.utils.data import DataLoader\n",
        "import os\n",
        "\n",
        "image_transforms = transforms.Compose([\n",
        "    transforms.RandomHorizontalFlip(),\n",
        "    transforms.ColorJitter(0.2, 0.2, 0.2, 0.0),\n",
        "    transforms.Resize((224, 224)),\n",
        "    transforms.ToTensor(),\n",
        "    transforms.Normalize(mean=[0.485, 0.456, 0.406],\n",
        "                         std=[0.229, 0.224, 0.225])\n",
        "])"
      ],
      "metadata": {
        "id": "TTZSviwlyai1"
      },
      "execution_count": 6,
      "outputs": []
    },
    {
      "cell_type": "code",
      "source": [
        "root_dir='./data/raw/plantvillage'"
      ],
      "metadata": {
        "id": "SSHVOM_s0wzV"
      },
      "execution_count": 4,
      "outputs": []
    },
    {
      "cell_type": "code",
      "source": [
        "train_dataset = datasets.ImageFolder(os.path.join(root_dir, \"train\"), transform=image_transforms)\n",
        "val_dataset = datasets.ImageFolder(os.path.join(root_dir, \"val\"), transform=image_transforms)\n",
        "test_dataset = datasets.ImageFolder(os.path.join(root_dir, \"test\"), transform=image_transforms)\n",
        "\n",
        "train_loader = DataLoader(train_dataset, batch_size=16, shuffle=True, num_workers=4)\n",
        "val_loader = DataLoader(val_dataset, batch_size=16, shuffle=False, num_workers=4)\n",
        "test_loader = DataLoader(test_dataset, batch_size=16, shuffle=False, num_workers=4)"
      ],
      "metadata": {
        "id": "5Hjg1VHM06Ji"
      },
      "execution_count": 7,
      "outputs": []
    },
    {
      "cell_type": "code",
      "source": [
        "import torch\n",
        "import torch.nn as nn\n",
        "import torchvision.models as models\n",
        "from torchvision.models import VGG16_Weights\n",
        "\n",
        "\n",
        "\n",
        "\n",
        "# inception refine\n",
        "class InceptionBlock(nn.Module):\n",
        "    def __init__(self, in_channels=128):\n",
        "        super(InceptionBlock, self).__init__()\n",
        "        # Nhánh 1: 1x1\n",
        "        self.branch1x1 = nn.Sequential(\n",
        "            nn.Conv2d(in_channels, 128, kernel_size=1),\n",
        "            nn.ReLU(),\n",
        "            nn.BatchNorm2d(128)\n",
        "        )\n",
        "\n",
        "        # Nhánh 2: 1x1 -> 3x1 + 1x3\n",
        "        self.branch3x3 = nn.Sequential(\n",
        "            nn.Conv2d(in_channels, 96, kernel_size=1),\n",
        "            nn.ReLU(),\n",
        "            nn.BatchNorm2d(96),\n",
        "            nn.Conv2d(96, 128, kernel_size=(3, 1), padding=(1, 0)),\n",
        "            nn.ReLU(),\n",
        "            nn.BatchNorm2d(128),\n",
        "            nn.Conv2d(128, 128, kernel_size=(1, 3), padding=(0, 1)),\n",
        "            nn.ReLU(),\n",
        "            nn.BatchNorm2d(128)\n",
        "        )\n",
        "\n",
        "        # Nhánh 3: 1x1 -> 3x1 + 1x3 -> 3x1 + 1x3\n",
        "        self.branch5x5 = nn.Sequential(\n",
        "            nn.Conv2d(in_channels, 64, kernel_size=1),\n",
        "            nn.ReLU(),\n",
        "            nn.BatchNorm2d(64),\n",
        "            nn.Conv2d(64, 96, kernel_size=(3, 1), padding=(1, 0)),\n",
        "            nn.ReLU(),\n",
        "            nn.BatchNorm2d(96),\n",
        "            nn.Conv2d(96, 96, kernel_size=(1, 3), padding=(0, 1)),\n",
        "            nn.ReLU(),\n",
        "            nn.BatchNorm2d(96),\n",
        "            nn.Conv2d(96, 192, kernel_size=(3, 1), padding=(1, 0)),\n",
        "            nn.ReLU(),\n",
        "            nn.BatchNorm2d(192),\n",
        "            nn.Conv2d(192, 192, kernel_size=(1, 3), padding=(0, 1)),\n",
        "            nn.ReLU(),\n",
        "            nn.BatchNorm2d(192)\n",
        "        )\n",
        "\n",
        "        # Nhánh 4: MaxPool -> 1x1\n",
        "        self.branch_pool = nn.Sequential(\n",
        "            nn.MaxPool2d(kernel_size=3, stride=1, padding=1),\n",
        "            nn.Conv2d(in_channels, 64, kernel_size=1),\n",
        "            nn.ReLU(),\n",
        "            nn.BatchNorm2d(64)\n",
        "        )\n",
        "\n",
        "    def forward(self, x):\n",
        "        b1 = self.branch1x1(x)\n",
        "        b2 = self.branch3x3(x)\n",
        "        b3 = self.branch5x5(x)\n",
        "        b4 = self.branch_pool(x)\n",
        "        return torch.cat([b1, b2, b3, b4], dim=1)\n",
        "\n",
        "\n",
        "class PatchEmbedding(nn.Module):\n",
        "    def __init__(self, in_channels, patch_size=5, emb_size=16):\n",
        "        super().__init__()\n",
        "        self.patch_size = patch_size\n",
        "        self.emb_size = emb_size\n",
        "        self.proj = nn.Linear(in_channels * patch_size * patch_size, emb_size)\n",
        "\n",
        "    def forward(self, x):\n",
        "        B, C, H, W = x.shape\n",
        "        x = x.unfold(2, self.patch_size, self.patch_size).unfold(3, self.patch_size, self.patch_size)\n",
        "        x = x.permute(0, 2, 3, 1, 4, 5).contiguous()\n",
        "        x = x.view(B, -1, C * self.patch_size * self.patch_size)\n",
        "        return self.proj(x)  # shape: (b,num patches,emb size)\n",
        "\n",
        "\n",
        "# -------- Transformer Encoder Block (ViT block) --------\n",
        "class TransformerBlock(nn.Module):\n",
        "    def __init__(self, emb_size=16, dropout=0.3):\n",
        "        super().__init__()\n",
        "        self.norm1 = nn.LayerNorm(emb_size)\n",
        "        self.attn = nn.MultiheadAttention(emb_size, num_heads=2, batch_first=True)\n",
        "        self.norm2 = nn.LayerNorm(emb_size)\n",
        "        self.mlp = nn.Sequential(\n",
        "            nn.Linear(emb_size, emb_size * 2),\n",
        "            nn.GELU(),\n",
        "            nn.Linear(emb_size * 2, emb_size),\n",
        "            nn.Dropout(dropout)\n",
        "        )\n",
        "\n",
        "    def forward(self, x):\n",
        "        x_attn, _ = self.attn(self.norm1(x), self.norm1(x), self.norm1(x))\n",
        "        x = x + x_attn\n",
        "        x = x + self.mlp(self.norm2(x))\n",
        "        return x\n",
        "\n",
        "\n",
        "# -------- PlantXViT Model --------\n",
        "class PlantXViT(nn.Module):\n",
        "    def __init__(self, num_classes=4, patch_size=5, emb_size=16, num_blocks=4, dropout=0.1):\n",
        "        super().__init__()\n",
        "\n",
        "        # VGG16 (2 blocks)\n",
        "        vgg = models.vgg16(weights=VGG16_Weights.DEFAULT)\n",
        "        self.vgg_block = nn.Sequential(*list(vgg.features[:10]))\n",
        "        # self.vgg_block = nn.Sequential(*vgg[:10])  # output: (B, 128, 56, 56)\n",
        "\n",
        "        # Inception-like block → (B, 384, 56, 56)\n",
        "        self.inception = InceptionBlock(in_channels=128)\n",
        "\n",
        "        # Patch Embedding → (B, 121, 16)\n",
        "        # self.patch_embed = PatchEmbedding(in_channels=384, patch_size=patch_size, emb_size=emb_size)\n",
        "        self.patch_embed = PatchEmbedding(in_channels=512, patch_size=patch_size, emb_size=emb_size)\n",
        "\n",
        "        # Transformer blocks\n",
        "        self.transformer = nn.Sequential(*[TransformerBlock(emb_size, dropout) for _ in range(num_blocks)])\n",
        "\n",
        "        # Classification head\n",
        "        self.norm = nn.LayerNorm(emb_size)\n",
        "        self.global_pool = nn.AdaptiveAvgPool1d(1)  # (B, emb_size, 1)\n",
        "        self.classifier = nn.Linear(emb_size, num_classes)\n",
        "\n",
        "    def forward(self, x):\n",
        "        x = self.vgg_block(x)  # (B, 128, 56, 56)\n",
        "        x = self.inception(x)  # (B, 384, 56, 56)\n",
        "        x = self.patch_embed(x)  # (B, 121, 16)\n",
        "        x = self.transformer(x)  # (B, 121, 16)\n",
        "        x = self.norm(x)  # (B, 121, 16)\n",
        "        x = x.permute(0, 2, 1)  # (B, 16, 121)\n",
        "        x = self.global_pool(x).squeeze(-1)  # (B, 16)\n",
        "        return self.classifier(x)  # (B, num_classes)\n"
      ],
      "metadata": {
        "id": "7Sng6UjS1DP5"
      },
      "execution_count": 8,
      "outputs": []
    },
    {
      "cell_type": "code",
      "source": [
        "model = PlantXViT(num_classes=38)\n",
        "criterion=nn.CrossEntropyLoss()"
      ],
      "metadata": {
        "colab": {
          "base_uri": "https://localhost:8080/"
        },
        "id": "QUiGNlot1SC7",
        "outputId": "c89df9b5-1f72-4343-9711-158659c41083"
      },
      "execution_count": 9,
      "outputs": [
        {
          "output_type": "stream",
          "name": "stderr",
          "text": [
            "Downloading: \"https://download.pytorch.org/models/vgg16-397923af.pth\" to /root/.cache/torch/hub/checkpoints/vgg16-397923af.pth\n",
            "100%|██████████| 528M/528M [00:02<00:00, 225MB/s]\n"
          ]
        }
      ]
    },
    {
      "cell_type": "code",
      "source": [
        "DATA_DIR=root_dir\n",
        "BATCH_SIZE=16\n",
        "EPOCHS=50\n",
        "LR=1e-4\n",
        "NUM_CLASSES=38\n",
        "DEVICE=torch.device('cuda')\n",
        "MODEL_PATH = \"./outputs/plantvillage/models/plantxvit_best.pth\"\n",
        "\n",
        "os.makedirs(os.path.dirname(MODEL_PATH), exist_ok=True)"
      ],
      "metadata": {
        "id": "vkGeCovT1bHW"
      },
      "execution_count": 10,
      "outputs": []
    },
    {
      "cell_type": "code",
      "source": [
        "import torch\n",
        "import torch.nn as nn\n",
        "import torch.optim as optim\n",
        "from torchvision import datasets, transforms\n",
        "from torch.utils.data import DataLoader\n",
        "import os\n",
        "from tqdm import tqdm"
      ],
      "metadata": {
        "id": "1L13fenC1jD5"
      },
      "execution_count": 11,
      "outputs": []
    },
    {
      "cell_type": "code",
      "source": [
        "\n",
        "model.to(DEVICE)\n",
        "optimizer = optim.Adam(model.parameters(), lr=1e-4, weight_decay=1e-4)"
      ],
      "metadata": {
        "id": "CAhuFHm61lyv"
      },
      "execution_count": 12,
      "outputs": []
    },
    {
      "cell_type": "code",
      "source": [
        "def train_one_epoch(model, loader, optimizer, criterion):\n",
        "    model.train()\n",
        "    running_loss, correct, total = 0, 0, 0\n",
        "\n",
        "    for inputs, labels in tqdm(loader, desc=\"Training\"):\n",
        "        inputs, labels = inputs.to(DEVICE), labels.to(DEVICE)\n",
        "\n",
        "        optimizer.zero_grad()\n",
        "        outputs = model(inputs)\n",
        "        loss = criterion(outputs, labels)\n",
        "        loss.backward()\n",
        "        optimizer.step()\n",
        "\n",
        "        running_loss += loss.item() * inputs.size(0)\n",
        "        _, preds = torch.max(outputs, 1)\n",
        "        correct += (preds == labels).sum().item()\n",
        "        total += labels.size(0)\n",
        "\n",
        "    avg_loss = running_loss / total\n",
        "    acc = correct / total\n",
        "    return avg_loss, acc\n",
        "\n",
        "\n"
      ],
      "metadata": {
        "id": "uyDMXsu61pA_"
      },
      "execution_count": 13,
      "outputs": []
    },
    {
      "cell_type": "code",
      "source": [
        "def evaluate(model, loader, criterion):\n",
        "    model.eval()\n",
        "    running_loss, correct, total = 0, 0, 0\n",
        "\n",
        "    with torch.no_grad():\n",
        "        for inputs, labels in tqdm(loader, desc=\"Evaluating\"):\n",
        "            inputs, labels = inputs.to(DEVICE), labels.to(DEVICE)\n",
        "            outputs = model(inputs)\n",
        "            loss = criterion(outputs, labels)\n",
        "\n",
        "            running_loss += loss.item() * inputs.size(0)\n",
        "            _, preds = torch.max(outputs, 1)\n",
        "            correct += (preds == labels).sum().item()\n",
        "            total += labels.size(0)\n",
        "\n",
        "    avg_loss = running_loss / total\n",
        "    acc = correct / total\n",
        "    return avg_loss, acc\n"
      ],
      "metadata": {
        "id": "QIedL-Jt1qeR"
      },
      "execution_count": 14,
      "outputs": []
    },
    {
      "cell_type": "code",
      "source": [
        "best_val_acc = 0\n",
        "patience,wait=5,0\n",
        "\n",
        "for epoch in range(EPOCHS):\n",
        "    print(f\"\\nEpoch {epoch+1}/{EPOCHS}\")\n",
        "\n",
        "    train_loss, train_acc = train_one_epoch(model, train_loader, optimizer, criterion)\n",
        "    val_loss, val_acc = evaluate(model, val_loader, criterion)\n",
        "\n",
        "    print(f\"Train Loss: {train_loss:.4f} | Acc: {train_acc:.4f}\")\n",
        "    print(f\"Val   Loss: {val_loss:.4f} | Acc: {val_acc:.4f}\")\n",
        "\n",
        "    # Save best model\n",
        "    if val_acc > best_val_acc:\n",
        "        best_val_acc = val_acc\n",
        "        torch.save(model.state_dict(), MODEL_PATH)\n",
        "        print(f\"✅ Saved best model to {MODEL_PATH}\")\n",
        "        wait=0\n",
        "    else:\n",
        "      wait+=1\n",
        "      if wait>=patience:\n",
        "        print(f\"Early stopping at epoch {epoch+1}\")\n",
        "        break\n"
      ],
      "metadata": {
        "colab": {
          "base_uri": "https://localhost:8080/"
        },
        "id": "ztmMsJeR1se5",
        "outputId": "7955925e-8fd2-44c3-e0bd-1aa58645f563"
      },
      "execution_count": 15,
      "outputs": [
        {
          "output_type": "stream",
          "name": "stdout",
          "text": [
            "\n",
            "Epoch 1/50\n"
          ]
        },
        {
          "output_type": "stream",
          "name": "stderr",
          "text": [
            "Training: 100%|██████████| 2375/2375 [01:34<00:00, 25.20it/s]\n",
            "Evaluating: 100%|██████████| 510/510 [00:10<00:00, 46.69it/s]\n"
          ]
        },
        {
          "output_type": "stream",
          "name": "stdout",
          "text": [
            "Train Loss: 2.1269 | Acc: 0.5970\n",
            "Val   Loss: 1.2831 | Acc: 0.7807\n",
            "✅ Saved best model to ./outputs/plantvillage/models/plantxvit_best.pth\n",
            "\n",
            "Epoch 2/50\n"
          ]
        },
        {
          "output_type": "stream",
          "name": "stderr",
          "text": [
            "Training: 100%|██████████| 2375/2375 [01:31<00:00, 25.86it/s]\n",
            "Evaluating: 100%|██████████| 510/510 [00:10<00:00, 46.68it/s]\n"
          ]
        },
        {
          "output_type": "stream",
          "name": "stdout",
          "text": [
            "Train Loss: 0.9626 | Acc: 0.8216\n",
            "Val   Loss: 0.6547 | Acc: 0.8764\n",
            "✅ Saved best model to ./outputs/plantvillage/models/plantxvit_best.pth\n",
            "\n",
            "Epoch 3/50\n"
          ]
        },
        {
          "output_type": "stream",
          "name": "stderr",
          "text": [
            "Training: 100%|██████████| 2375/2375 [01:32<00:00, 25.79it/s]\n",
            "Evaluating: 100%|██████████| 510/510 [00:11<00:00, 46.32it/s]\n"
          ]
        },
        {
          "output_type": "stream",
          "name": "stdout",
          "text": [
            "Train Loss: 0.5063 | Acc: 0.9048\n",
            "Val   Loss: 0.3614 | Acc: 0.9347\n",
            "✅ Saved best model to ./outputs/plantvillage/models/plantxvit_best.pth\n",
            "\n",
            "Epoch 4/50\n"
          ]
        },
        {
          "output_type": "stream",
          "name": "stderr",
          "text": [
            "Training: 100%|██████████| 2375/2375 [01:32<00:00, 25.80it/s]\n",
            "Evaluating: 100%|██████████| 510/510 [00:10<00:00, 46.56it/s]\n"
          ]
        },
        {
          "output_type": "stream",
          "name": "stdout",
          "text": [
            "Train Loss: 0.2962 | Acc: 0.9468\n",
            "Val   Loss: 0.2134 | Acc: 0.9558\n",
            "✅ Saved best model to ./outputs/plantvillage/models/plantxvit_best.pth\n",
            "\n",
            "Epoch 5/50\n"
          ]
        },
        {
          "output_type": "stream",
          "name": "stderr",
          "text": [
            "Training: 100%|██████████| 2375/2375 [01:32<00:00, 25.78it/s]\n",
            "Evaluating: 100%|██████████| 510/510 [00:10<00:00, 46.80it/s]\n"
          ]
        },
        {
          "output_type": "stream",
          "name": "stdout",
          "text": [
            "Train Loss: 0.1901 | Acc: 0.9653\n",
            "Val   Loss: 0.1790 | Acc: 0.9595\n",
            "✅ Saved best model to ./outputs/plantvillage/models/plantxvit_best.pth\n",
            "\n",
            "Epoch 6/50\n"
          ]
        },
        {
          "output_type": "stream",
          "name": "stderr",
          "text": [
            "Training: 100%|██████████| 2375/2375 [01:32<00:00, 25.68it/s]\n",
            "Evaluating: 100%|██████████| 510/510 [00:11<00:00, 46.31it/s]\n"
          ]
        },
        {
          "output_type": "stream",
          "name": "stdout",
          "text": [
            "Train Loss: 0.1314 | Acc: 0.9739\n",
            "Val   Loss: 0.1094 | Acc: 0.9756\n",
            "✅ Saved best model to ./outputs/plantvillage/models/plantxvit_best.pth\n",
            "\n",
            "Epoch 7/50\n"
          ]
        },
        {
          "output_type": "stream",
          "name": "stderr",
          "text": [
            "Training: 100%|██████████| 2375/2375 [01:32<00:00, 25.70it/s]\n",
            "Evaluating: 100%|██████████| 510/510 [00:10<00:00, 46.72it/s]\n"
          ]
        },
        {
          "output_type": "stream",
          "name": "stdout",
          "text": [
            "Train Loss: 0.0988 | Acc: 0.9800\n",
            "Val   Loss: 0.1419 | Acc: 0.9622\n",
            "\n",
            "Epoch 8/50\n"
          ]
        },
        {
          "output_type": "stream",
          "name": "stderr",
          "text": [
            "Training: 100%|██████████| 2375/2375 [01:31<00:00, 25.91it/s]\n",
            "Evaluating: 100%|██████████| 510/510 [00:10<00:00, 46.43it/s]\n"
          ]
        },
        {
          "output_type": "stream",
          "name": "stdout",
          "text": [
            "Train Loss: 0.0799 | Acc: 0.9836\n",
            "Val   Loss: 0.0880 | Acc: 0.9766\n",
            "✅ Saved best model to ./outputs/plantvillage/models/plantxvit_best.pth\n",
            "\n",
            "Epoch 9/50\n"
          ]
        },
        {
          "output_type": "stream",
          "name": "stderr",
          "text": [
            "Training: 100%|██████████| 2375/2375 [01:33<00:00, 25.47it/s]\n",
            "Evaluating: 100%|██████████| 510/510 [00:10<00:00, 46.51it/s]\n"
          ]
        },
        {
          "output_type": "stream",
          "name": "stdout",
          "text": [
            "Train Loss: 0.0670 | Acc: 0.9850\n",
            "Val   Loss: 0.0814 | Acc: 0.9791\n",
            "✅ Saved best model to ./outputs/plantvillage/models/plantxvit_best.pth\n",
            "\n",
            "Epoch 10/50\n"
          ]
        },
        {
          "output_type": "stream",
          "name": "stderr",
          "text": [
            "Training: 100%|██████████| 2375/2375 [01:32<00:00, 25.78it/s]\n",
            "Evaluating: 100%|██████████| 510/510 [00:11<00:00, 45.56it/s]\n"
          ]
        },
        {
          "output_type": "stream",
          "name": "stdout",
          "text": [
            "Train Loss: 0.0561 | Acc: 0.9870\n",
            "Val   Loss: 0.0704 | Acc: 0.9804\n",
            "✅ Saved best model to ./outputs/plantvillage/models/plantxvit_best.pth\n",
            "\n",
            "Epoch 11/50\n"
          ]
        },
        {
          "output_type": "stream",
          "name": "stderr",
          "text": [
            "Training: 100%|██████████| 2375/2375 [01:32<00:00, 25.72it/s]\n",
            "Evaluating: 100%|██████████| 510/510 [00:10<00:00, 46.91it/s]\n"
          ]
        },
        {
          "output_type": "stream",
          "name": "stdout",
          "text": [
            "Train Loss: 0.0486 | Acc: 0.9888\n",
            "Val   Loss: 0.0746 | Acc: 0.9801\n",
            "\n",
            "Epoch 12/50\n"
          ]
        },
        {
          "output_type": "stream",
          "name": "stderr",
          "text": [
            "Training: 100%|██████████| 2375/2375 [01:32<00:00, 25.60it/s]\n",
            "Evaluating: 100%|██████████| 510/510 [00:11<00:00, 46.16it/s]\n"
          ]
        },
        {
          "output_type": "stream",
          "name": "stdout",
          "text": [
            "Train Loss: 0.0433 | Acc: 0.9900\n",
            "Val   Loss: 0.0566 | Acc: 0.9833\n",
            "✅ Saved best model to ./outputs/plantvillage/models/plantxvit_best.pth\n",
            "\n",
            "Epoch 13/50\n"
          ]
        },
        {
          "output_type": "stream",
          "name": "stderr",
          "text": [
            "Training: 100%|██████████| 2375/2375 [01:32<00:00, 25.55it/s]\n",
            "Evaluating: 100%|██████████| 510/510 [00:11<00:00, 46.00it/s]\n"
          ]
        },
        {
          "output_type": "stream",
          "name": "stdout",
          "text": [
            "Train Loss: 0.0426 | Acc: 0.9897\n",
            "Val   Loss: 0.0488 | Acc: 0.9849\n",
            "✅ Saved best model to ./outputs/plantvillage/models/plantxvit_best.pth\n",
            "\n",
            "Epoch 14/50\n"
          ]
        },
        {
          "output_type": "stream",
          "name": "stderr",
          "text": [
            "Training: 100%|██████████| 2375/2375 [01:32<00:00, 25.66it/s]\n",
            "Evaluating: 100%|██████████| 510/510 [00:10<00:00, 46.58it/s]\n"
          ]
        },
        {
          "output_type": "stream",
          "name": "stdout",
          "text": [
            "Train Loss: 0.0376 | Acc: 0.9910\n",
            "Val   Loss: 0.0425 | Acc: 0.9877\n",
            "✅ Saved best model to ./outputs/plantvillage/models/plantxvit_best.pth\n",
            "\n",
            "Epoch 15/50\n"
          ]
        },
        {
          "output_type": "stream",
          "name": "stderr",
          "text": [
            "Training: 100%|██████████| 2375/2375 [01:32<00:00, 25.63it/s]\n",
            "Evaluating: 100%|██████████| 510/510 [00:11<00:00, 46.34it/s]\n"
          ]
        },
        {
          "output_type": "stream",
          "name": "stdout",
          "text": [
            "Train Loss: 0.0345 | Acc: 0.9912\n",
            "Val   Loss: 0.0569 | Acc: 0.9832\n",
            "\n",
            "Epoch 16/50\n"
          ]
        },
        {
          "output_type": "stream",
          "name": "stderr",
          "text": [
            "Training: 100%|██████████| 2375/2375 [01:32<00:00, 25.74it/s]\n",
            "Evaluating: 100%|██████████| 510/510 [00:10<00:00, 46.69it/s]\n"
          ]
        },
        {
          "output_type": "stream",
          "name": "stdout",
          "text": [
            "Train Loss: 0.0331 | Acc: 0.9917\n",
            "Val   Loss: 0.0573 | Acc: 0.9837\n",
            "\n",
            "Epoch 17/50\n"
          ]
        },
        {
          "output_type": "stream",
          "name": "stderr",
          "text": [
            "Training: 100%|██████████| 2375/2375 [01:31<00:00, 25.84it/s]\n",
            "Evaluating: 100%|██████████| 510/510 [00:11<00:00, 45.93it/s]\n"
          ]
        },
        {
          "output_type": "stream",
          "name": "stdout",
          "text": [
            "Train Loss: 0.0297 | Acc: 0.9929\n",
            "Val   Loss: 0.0684 | Acc: 0.9785\n",
            "\n",
            "Epoch 18/50\n"
          ]
        },
        {
          "output_type": "stream",
          "name": "stderr",
          "text": [
            "Training: 100%|██████████| 2375/2375 [01:32<00:00, 25.57it/s]\n",
            "Evaluating: 100%|██████████| 510/510 [00:11<00:00, 45.89it/s]\n"
          ]
        },
        {
          "output_type": "stream",
          "name": "stdout",
          "text": [
            "Train Loss: 0.0262 | Acc: 0.9938\n",
            "Val   Loss: 0.0808 | Acc: 0.9753\n",
            "\n",
            "Epoch 19/50\n"
          ]
        },
        {
          "output_type": "stream",
          "name": "stderr",
          "text": [
            "Training: 100%|██████████| 2375/2375 [01:32<00:00, 25.56it/s]\n",
            "Evaluating: 100%|██████████| 510/510 [00:10<00:00, 46.66it/s]"
          ]
        },
        {
          "output_type": "stream",
          "name": "stdout",
          "text": [
            "Train Loss: 0.0269 | Acc: 0.9925\n",
            "Val   Loss: 0.0805 | Acc: 0.9738\n",
            "Early stopping at epoch 19\n"
          ]
        },
        {
          "output_type": "stream",
          "name": "stderr",
          "text": [
            "\n"
          ]
        }
      ]
    },
    {
      "cell_type": "code",
      "source": [
        "log_text=\"\"\"\n",
        "Epoch 1/50\n",
        "Training: 100%|██████████| 2375/2375 [01:34<00:00, 25.20it/s]\n",
        "Evaluating: 100%|██████████| 510/510 [00:10<00:00, 46.69it/s]\n",
        "Train Loss: 2.1269 | Acc: 0.5970\n",
        "Val   Loss: 1.2831 | Acc: 0.7807\n",
        "✅ Saved best model to ./outputs/plantvillage/models/plantxvit_best.pth\n",
        "\n",
        "Epoch 2/50\n",
        "Training: 100%|██████████| 2375/2375 [01:31<00:00, 25.86it/s]\n",
        "Evaluating: 100%|██████████| 510/510 [00:10<00:00, 46.68it/s]\n",
        "Train Loss: 0.9626 | Acc: 0.8216\n",
        "Val   Loss: 0.6547 | Acc: 0.8764\n",
        "✅ Saved best model to ./outputs/plantvillage/models/plantxvit_best.pth\n",
        "\n",
        "Epoch 3/50\n",
        "Training: 100%|██████████| 2375/2375 [01:32<00:00, 25.79it/s]\n",
        "Evaluating: 100%|██████████| 510/510 [00:11<00:00, 46.32it/s]\n",
        "Train Loss: 0.5063 | Acc: 0.9048\n",
        "Val   Loss: 0.3614 | Acc: 0.9347\n",
        "✅ Saved best model to ./outputs/plantvillage/models/plantxvit_best.pth\n",
        "\n",
        "Epoch 4/50\n",
        "Training: 100%|██████████| 2375/2375 [01:32<00:00, 25.80it/s]\n",
        "Evaluating: 100%|██████████| 510/510 [00:10<00:00, 46.56it/s]\n",
        "Train Loss: 0.2962 | Acc: 0.9468\n",
        "Val   Loss: 0.2134 | Acc: 0.9558\n",
        "✅ Saved best model to ./outputs/plantvillage/models/plantxvit_best.pth\n",
        "\n",
        "Epoch 5/50\n",
        "Training: 100%|██████████| 2375/2375 [01:32<00:00, 25.78it/s]\n",
        "Evaluating: 100%|██████████| 510/510 [00:10<00:00, 46.80it/s]\n",
        "Train Loss: 0.1901 | Acc: 0.9653\n",
        "Val   Loss: 0.1790 | Acc: 0.9595\n",
        "✅ Saved best model to ./outputs/plantvillage/models/plantxvit_best.pth\n",
        "\n",
        "Epoch 6/50\n",
        "Training: 100%|██████████| 2375/2375 [01:32<00:00, 25.68it/s]\n",
        "Evaluating: 100%|██████████| 510/510 [00:11<00:00, 46.31it/s]\n",
        "Train Loss: 0.1314 | Acc: 0.9739\n",
        "Val   Loss: 0.1094 | Acc: 0.9756\n",
        "✅ Saved best model to ./outputs/plantvillage/models/plantxvit_best.pth\n",
        "\n",
        "Epoch 7/50\n",
        "Training: 100%|██████████| 2375/2375 [01:32<00:00, 25.70it/s]\n",
        "Evaluating: 100%|██████████| 510/510 [00:10<00:00, 46.72it/s]\n",
        "Train Loss: 0.0988 | Acc: 0.9800\n",
        "Val   Loss: 0.1419 | Acc: 0.9622\n",
        "\n",
        "Epoch 8/50\n",
        "Training: 100%|██████████| 2375/2375 [01:31<00:00, 25.91it/s]\n",
        "Evaluating: 100%|██████████| 510/510 [00:10<00:00, 46.43it/s]\n",
        "Train Loss: 0.0799 | Acc: 0.9836\n",
        "Val   Loss: 0.0880 | Acc: 0.9766\n",
        "✅ Saved best model to ./outputs/plantvillage/models/plantxvit_best.pth\n",
        "\n",
        "Epoch 9/50\n",
        "Training: 100%|██████████| 2375/2375 [01:33<00:00, 25.47it/s]\n",
        "Evaluating: 100%|██████████| 510/510 [00:10<00:00, 46.51it/s]\n",
        "Train Loss: 0.0670 | Acc: 0.9850\n",
        "Val   Loss: 0.0814 | Acc: 0.9791\n",
        "✅ Saved best model to ./outputs/plantvillage/models/plantxvit_best.pth\n",
        "\n",
        "Epoch 10/50\n",
        "Training: 100%|██████████| 2375/2375 [01:32<00:00, 25.78it/s]\n",
        "Evaluating: 100%|██████████| 510/510 [00:11<00:00, 45.56it/s]\n",
        "Train Loss: 0.0561 | Acc: 0.9870\n",
        "Val   Loss: 0.0704 | Acc: 0.9804\n",
        "✅ Saved best model to ./outputs/plantvillage/models/plantxvit_best.pth\n",
        "\n",
        "Epoch 11/50\n",
        "Training: 100%|██████████| 2375/2375 [01:32<00:00, 25.72it/s]\n",
        "Evaluating: 100%|██████████| 510/510 [00:10<00:00, 46.91it/s]\n",
        "Train Loss: 0.0486 | Acc: 0.9888\n",
        "Val   Loss: 0.0746 | Acc: 0.9801\n",
        "\n",
        "Epoch 12/50\n",
        "Training: 100%|██████████| 2375/2375 [01:32<00:00, 25.60it/s]\n",
        "Evaluating: 100%|██████████| 510/510 [00:11<00:00, 46.16it/s]\n",
        "Train Loss: 0.0433 | Acc: 0.9900\n",
        "Val   Loss: 0.0566 | Acc: 0.9833\n",
        "✅ Saved best model to ./outputs/plantvillage/models/plantxvit_best.pth\n",
        "\n",
        "Epoch 13/50\n",
        "Training: 100%|██████████| 2375/2375 [01:32<00:00, 25.55it/s]\n",
        "Evaluating: 100%|██████████| 510/510 [00:11<00:00, 46.00it/s]\n",
        "Train Loss: 0.0426 | Acc: 0.9897\n",
        "Val   Loss: 0.0488 | Acc: 0.9849\n",
        "✅ Saved best model to ./outputs/plantvillage/models/plantxvit_best.pth\n",
        "\n",
        "Epoch 14/50\n",
        "Training: 100%|██████████| 2375/2375 [01:32<00:00, 25.66it/s]\n",
        "Evaluating: 100%|██████████| 510/510 [00:10<00:00, 46.58it/s]\n",
        "Train Loss: 0.0376 | Acc: 0.9910\n",
        "Val   Loss: 0.0425 | Acc: 0.9877\n",
        "✅ Saved best model to ./outputs/plantvillage/models/plantxvit_best.pth\n",
        "\n",
        "Epoch 15/50\n",
        "Training: 100%|██████████| 2375/2375 [01:32<00:00, 25.63it/s]\n",
        "Evaluating: 100%|██████████| 510/510 [00:11<00:00, 46.34it/s]\n",
        "Train Loss: 0.0345 | Acc: 0.9912\n",
        "Val   Loss: 0.0569 | Acc: 0.9832\n",
        "\n",
        "Epoch 16/50\n",
        "Training: 100%|██████████| 2375/2375 [01:32<00:00, 25.74it/s]\n",
        "Evaluating: 100%|██████████| 510/510 [00:10<00:00, 46.69it/s]\n",
        "Train Loss: 0.0331 | Acc: 0.9917\n",
        "Val   Loss: 0.0573 | Acc: 0.9837\n",
        "\n",
        "Epoch 17/50\n",
        "Training: 100%|██████████| 2375/2375 [01:31<00:00, 25.84it/s]\n",
        "Evaluating: 100%|██████████| 510/510 [00:11<00:00, 45.93it/s]\n",
        "Train Loss: 0.0297 | Acc: 0.9929\n",
        "Val   Loss: 0.0684 | Acc: 0.9785\n",
        "\n",
        "Epoch 18/50\n",
        "Training: 100%|██████████| 2375/2375 [01:32<00:00, 25.57it/s]\n",
        "Evaluating: 100%|██████████| 510/510 [00:11<00:00, 45.89it/s]\n",
        "Train Loss: 0.0262 | Acc: 0.9938\n",
        "Val   Loss: 0.0808 | Acc: 0.9753\n",
        "\n",
        "Epoch 19/50\n",
        "Training: 100%|██████████| 2375/2375 [01:32<00:00, 25.56it/s]\n",
        "Evaluating: 100%|██████████| 510/510 [00:10<00:00, 46.66it/s]Train Loss: 0.0269 | Acc: 0.9925\n",
        "Val   Loss: 0.0805 | Acc: 0.9738\n",
        "Early stopping at epoch 19\n",
        "\"\"\""
      ],
      "metadata": {
        "id": "dPPpz_s5-vTR"
      },
      "execution_count": 16,
      "outputs": []
    },
    {
      "cell_type": "code",
      "source": [
        "import re\n",
        "train_lines = re.findall(r'Train Loss: ([\\d\\.]+) \\| Acc: ([\\d\\.]+)', log_text)\n",
        "val_lines = re.findall(r'Val\\s+Loss: ([\\d\\.]+) \\| Acc: ([\\d\\.]+)', log_text)\n",
        "\n",
        "# Tách ra các list số\n",
        "train_losses = [float(l[0]) for l in train_lines]\n",
        "train_accuracies = [float(l[1]) for l in train_lines]\n",
        "val_losses = [float(l[0]) for l in val_lines]\n",
        "val_accuracies = [float(l[1]) for l in val_lines]\n",
        "\n",
        "import matplotlib.pyplot as plt\n",
        "\n",
        "epochs = range(1, len(train_losses) + 1)\n",
        "\n",
        "plt.figure(figsize=(14, 6))\n",
        "\n",
        "# Loss\n",
        "# plt.subplot(1, 2, 1)\n",
        "plt.plot(epochs, train_losses, label='Train Loss')\n",
        "plt.plot(epochs, val_losses, label='Val Loss')\n",
        "plt.title('Plant Village: Loss per Epoch')\n",
        "plt.xlabel('Epoch')\n",
        "plt.ylabel('Loss')\n",
        "plt.legend()\n",
        "plt.grid(True)\n",
        "plt.show()\n",
        "\n",
        "# Accuracy\n",
        "# plt.subplot(1, 2, 2)\n",
        "plt.plot(epochs, train_accuracies, label='Train Accuracy')\n",
        "plt.plot(epochs, val_accuracies, label='Val Accuracy')\n",
        "plt.title('Plant Village: Accuracy per Epoch')\n",
        "plt.xlabel('Epoch')\n",
        "plt.ylabel('Accuracy')\n",
        "plt.legend()\n",
        "plt.grid(True)\n",
        "\n",
        "plt.tight_layout()\n",
        "plt.show()\n"
      ],
      "metadata": {
        "colab": {
          "base_uri": "https://localhost:8080/",
          "height": 853
        },
        "id": "yCRE3efm_AvM",
        "outputId": "d667013d-f421-4b4a-95ce-8bc54344fae0"
      },
      "execution_count": 19,
      "outputs": [
        {
          "output_type": "display_data",
          "data": {
            "text/plain": [
              "<Figure size 1400x600 with 1 Axes>"
            ],
            "image/png": "[encoded data removed]"
          },
          "metadata": {}
        },
        {
          "output_type": "display_data",
          "data": {
            "text/plain": [
              "<Figure size 640x480 with 1 Axes>"
            ],
            "image/png": "[encoded data removed]"
          },
          "metadata": {}
        }
      ]
    }
  ]
}