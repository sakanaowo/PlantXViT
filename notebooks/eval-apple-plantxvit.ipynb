{
 "metadata": {
  "kernelspec": {
   "language": "python",
   "display_name": "Python 3",
   "name": "python3"
  },
  "language_info": {
   "name": "python",
   "version": "3.11.11",
   "mimetype": "text/x-python",
   "codemirror_mode": {
    "name": "ipython",
    "version": 3
   },
   "pygments_lexer": "ipython3",
   "nbconvert_exporter": "python",
   "file_extension": ".py"
  },
  "kaggle": {
   "accelerator": "gpu",
   "dataSources": [],
   "dockerImageVersionId": 31041,
   "isInternetEnabled": true,
   "language": "python",
   "sourceType": "notebook",
   "isGpuEnabled": true
  }
 },
 "nbformat_minor": 4,
 "nbformat": 4,
 "cells": [
  {
   "cell_type": "code",
   "source": "!git clone https://github.com/sakanaowo/PlantXViT",
   "metadata": {
    "trusted": true,
    "execution": {
     "iopub.status.busy": "2025-06-09T04:02:40.614963Z",
     "iopub.execute_input": "2025-06-09T04:02:40.615691Z",
     "iopub.status.idle": "2025-06-09T04:04:23.925076Z",
     "shell.execute_reply.started": "2025-06-09T04:02:40.615657Z",
     "shell.execute_reply": "2025-06-09T04:04:23.924401Z"
    }
   },
   "outputs": [
    {
     "name": "stdout",
     "text": "Cloning into 'PlantXViT'...\nremote: Enumerating objects: 50309, done.\u001B[K\nremote: Counting objects: 100% (38/38), done.\u001B[K\nremote: Compressing objects: 100% (26/26), done.\u001B[K\nremote: Total 50309 (delta 7), reused 34 (delta 6), pack-reused 50271 (from 1)\u001B[K\nReceiving objects: 100% (50309/50309), 1.66 GiB | 20.23 MiB/s, done.\nResolving deltas: 100% (30392/30392), done.\nUpdating files: 100% (50027/50027), done.\n",
     "output_type": "stream"
    }
   ],
   "execution_count": 2
  },
  {
   "cell_type": "code",
   "source": "%cd PlantXViT",
   "metadata": {
    "trusted": true,
    "execution": {
     "iopub.status.busy": "2025-06-09T04:06:43.650406Z",
     "iopub.execute_input": "2025-06-09T04:06:43.651012Z",
     "iopub.status.idle": "2025-06-09T04:06:43.657171Z",
     "shell.execute_reply.started": "2025-06-09T04:06:43.650986Z",
     "shell.execute_reply": "2025-06-09T04:06:43.656612Z"
    }
   },
   "outputs": [
    {
     "name": "stdout",
     "text": "/kaggle/working/PlantXViT\n",
     "output_type": "stream"
    }
   ],
   "execution_count": 5
  },
  {
   "cell_type": "code",
   "source": "!git pull\n",
   "metadata": {
    "trusted": true,
    "execution": {
     "iopub.status.busy": "2025-06-09T04:06:46.539142Z",
     "iopub.execute_input": "2025-06-09T04:06:46.539750Z",
     "iopub.status.idle": "2025-06-09T04:06:48.105316Z",
     "shell.execute_reply.started": "2025-06-09T04:06:46.539719Z",
     "shell.execute_reply": "2025-06-09T04:06:48.104502Z"
    }
   },
   "outputs": [
    {
     "name": "stdout",
     "text": "remote: Enumerating objects: 7, done.\u001B[K\nremote: Counting objects: 100% (7/7), done.\u001B[K\nremote: Compressing objects: 100% (1/1), done.\u001B[K\nremote: Total 4 (delta 3), reused 4 (delta 3), pack-reused 0 (from 0)\u001B[K\nUnpacking objects: 100% (4/4), 391 bytes | 391.00 KiB/s, done.\nFrom https://github.com/sakanaowo/PlantXViT\n   3f946f65..7b3259f5  main       -> origin/main\nUpdating 3f946f65..7b3259f5\nFast-forward\n src/model.py | 3 \u001B[32m++\u001B[m\u001B[31m-\u001B[m\n 1 file changed, 2 insertions(+), 1 deletion(-)\n",
     "output_type": "stream"
    }
   ],
   "execution_count": 6
  },
  {
   "cell_type": "code",
   "source": "from utils.config_loader import load_config\n\nconfig=load_config(\"configs/config.yaml\")",
   "metadata": {
    "trusted": true,
    "execution": {
     "iopub.status.busy": "2025-06-09T04:06:53.081977Z",
     "iopub.execute_input": "2025-06-09T04:06:53.082270Z",
     "iopub.status.idle": "2025-06-09T04:06:53.106363Z",
     "shell.execute_reply.started": "2025-06-09T04:06:53.082245Z",
     "shell.execute_reply": "2025-06-09T04:06:53.105911Z"
    }
   },
   "outputs": [],
   "execution_count": 7
  },
  {
   "cell_type": "code",
   "source": "import torch\nimport torch.nn as nn\nimport torchvision.models as models\nfrom torchvision.models import VGG16_Weights\n\n\n# inception block\nclass InceptionBlock(nn.Module):\n    def __init__(self, in_channels):\n        super().__init__()\n        self.branch1x1 = nn.Conv2d(in_channels, 128, kernel_size=1)\n\n        self.branch3x3 = nn.Sequential(\n            nn.Conv2d(in_channels, 128, kernel_size=(1, 3), padding=(0, 1)),\n            nn.Conv2d(128, 128, kernel_size=(3, 1), padding=(1, 0)),\n        )\n\n        self.branch_pool = nn.Sequential(\n            nn.MaxPool2d(kernel_size=3, stride=1, padding=1),\n            nn.Conv2d(in_channels, 128, kernel_size=1),\n        )\n\n    def forward(self, x):\n        b1 = self.branch1x1(x)\n        b2 = self.branch3x3(x)\n        b3 = self.branch_pool(x)\n        return torch.cat([b1, b2, b3], dim=1)\n\n\n# patch embedding: split patch -> Linear\nclass PatchEmbedding(nn.Module):\n    def __init__(self, in_channels, patch_size=5, emb_size=16):\n        super().__init__()\n        self.patch_size = patch_size\n        self.emb_size = emb_size\n        self.proj = nn.Linear(in_channels * patch_size * patch_size, emb_size)\n\n    def forward(self, x):\n        B, C, H, W = x.shape\n        x = x.unfold(2, self.patch_size, self.patch_size).unfold(3, self.patch_size, self.patch_size)\n        x = x.permute(0, 2, 3, 1, 4, 5).contiguous()\n        x = x.view(B, -1, C * self.patch_size * self.patch_size)\n        return self.proj(x)  # shape: (b,num patches,emb size)\n\n\n# -------- Transformer Encoder Block (ViT block) --------\nclass TransformerBlock(nn.Module):\n    def __init__(self, emb_size=16, dropout=0.1):\n        super().__init__()\n        self.norm1 = nn.LayerNorm(emb_size)\n        self.attn = nn.MultiheadAttention(emb_size, num_heads=2, batch_first=True)\n        self.norm2 = nn.LayerNorm(emb_size)\n        self.mlp = nn.Sequential(\n            nn.Linear(emb_size, emb_size * 2),\n            nn.GELU(),\n            nn.Linear(emb_size * 2, emb_size),\n            nn.Dropout(dropout)\n        )\n\n    def forward(self, x):\n        x_attn, _ = self.attn(self.norm1(x), self.norm1(x), self.norm1(x))\n        x = x + x_attn\n        x = x + self.mlp(self.norm2(x))\n        return x\n\n\n# -------- PlantXViT Model --------\nclass PlantXViT(nn.Module):\n    def __init__(self, num_classes=4, patch_size=5, emb_size=16, num_blocks=4, dropout=0.1):\n        super().__init__()\n\n        # VGG16 (2 blocks)\n        vgg = models.vgg16(weights=VGG16_Weights.DEFAULT)\n        self.vgg_block = nn.Sequential(*list(vgg.features[:10]))\n        # self.vgg_block = nn.Sequential(*vgg[:10])  # output: (B, 128, 56, 56)\n\n        # Inception-like block → (B, 384, 56, 56)\n        self.inception = InceptionBlock(in_channels=128)\n\n        # Patch Embedding → (B, 121, 16)\n        self.patch_embed = PatchEmbedding(in_channels=384, patch_size=patch_size, emb_size=emb_size)\n\n        # Transformer blocks\n        self.transformer = nn.Sequential(*[TransformerBlock(emb_size, dropout) for _ in range(num_blocks)])\n\n        # Classification head\n        self.norm = nn.LayerNorm(emb_size)\n        self.global_pool = nn.AdaptiveAvgPool1d(1)  # (B, emb_size, 1)\n        self.classifier = nn.Linear(emb_size, num_classes)\n\n    def forward(self, x):\n        x = self.vgg_block(x)  # (B, 128, 56, 56)\n        x = self.inception(x)  # (B, 384, 56, 56)\n        x = self.patch_embed(x)  # (B, 121, 16)\n        x = self.transformer(x)  # (B, 121, 16)\n        x = self.norm(x)  # (B, 121, 16)\n        x = x.permute(0, 2, 1)  # (B, 16, 121)\n        x = self.global_pool(x).squeeze(-1)  # (B, 16)\n        return self.classifier(x)  # (B, num_classes)\n",
   "metadata": {
    "trusted": true,
    "execution": {
     "iopub.status.busy": "2025-06-09T04:09:15.909798Z",
     "iopub.execute_input": "2025-06-09T04:09:15.910069Z",
     "iopub.status.idle": "2025-06-09T04:09:15.923054Z",
     "shell.execute_reply.started": "2025-06-09T04:09:15.910048Z",
     "shell.execute_reply": "2025-06-09T04:09:15.922312Z"
    }
   },
   "outputs": [],
   "execution_count": 13
  },
  {
   "cell_type": "code",
   "source": "print(config['output']['model_path'])",
   "metadata": {
    "trusted": true,
    "execution": {
     "iopub.status.busy": "2025-06-09T04:07:12.200543Z",
     "iopub.execute_input": "2025-06-09T04:07:12.200779Z",
     "iopub.status.idle": "2025-06-09T04:07:12.240914Z",
     "shell.execute_reply.started": "2025-06-09T04:07:12.200755Z",
     "shell.execute_reply": "2025-06-09T04:07:12.240400Z"
    }
   },
   "outputs": [
    {
     "name": "stdout",
     "text": "./outputs/models/plantxvit_best.pth\n",
     "output_type": "stream"
    }
   ],
   "execution_count": 10
  },
  {
   "cell_type": "code",
   "source": "model = PlantXViT(num_classes=4)\ndevice=torch.device(\"cuda\")\nmodel.to(device)\nmodel.load_state_dict(torch.load(config['output']['model_path']))\n\nmodel.eval()",
   "metadata": {
    "trusted": true,
    "execution": {
     "iopub.status.busy": "2025-06-09T04:10:02.177260Z",
     "iopub.execute_input": "2025-06-09T04:10:02.177927Z",
     "iopub.status.idle": "2025-06-09T04:10:04.003857Z",
     "shell.execute_reply.started": "2025-06-09T04:10:02.177906Z",
     "shell.execute_reply": "2025-06-09T04:10:04.003238Z"
    }
   },
   "outputs": [
    {
     "execution_count": 15,
     "output_type": "execute_result",
     "data": {
      "text/plain": "PlantXViT(\n  (vgg_block): Sequential(\n    (0): Conv2d(3, 64, kernel_size=(3, 3), stride=(1, 1), padding=(1, 1))\n    (1): ReLU(inplace=True)\n    (2): Conv2d(64, 64, kernel_size=(3, 3), stride=(1, 1), padding=(1, 1))\n    (3): ReLU(inplace=True)\n    (4): MaxPool2d(kernel_size=2, stride=2, padding=0, dilation=1, ceil_mode=False)\n    (5): Conv2d(64, 128, kernel_size=(3, 3), stride=(1, 1), padding=(1, 1))\n    (6): ReLU(inplace=True)\n    (7): Conv2d(128, 128, kernel_size=(3, 3), stride=(1, 1), padding=(1, 1))\n    (8): ReLU(inplace=True)\n    (9): MaxPool2d(kernel_size=2, stride=2, padding=0, dilation=1, ceil_mode=False)\n  )\n  (inception): InceptionBlock(\n    (branch1x1): Conv2d(128, 128, kernel_size=(1, 1), stride=(1, 1))\n    (branch3x3): Sequential(\n      (0): Conv2d(128, 128, kernel_size=(1, 3), stride=(1, 1), padding=(0, 1))\n      (1): Conv2d(128, 128, kernel_size=(3, 1), stride=(1, 1), padding=(1, 0))\n    )\n    (branch_pool): Sequential(\n      (0): MaxPool2d(kernel_size=3, stride=1, padding=1, dilation=1, ceil_mode=False)\n      (1): Conv2d(128, 128, kernel_size=(1, 1), stride=(1, 1))\n    )\n  )\n  (patch_embed): PatchEmbedding(\n    (proj): Linear(in_features=9600, out_features=16, bias=True)\n  )\n  (transformer): Sequential(\n    (0): TransformerBlock(\n      (norm1): LayerNorm((16,), eps=1e-05, elementwise_affine=True)\n      (attn): MultiheadAttention(\n        (out_proj): NonDynamicallyQuantizableLinear(in_features=16, out_features=16, bias=True)\n      )\n      (norm2): LayerNorm((16,), eps=1e-05, elementwise_affine=True)\n      (mlp): Sequential(\n        (0): Linear(in_features=16, out_features=32, bias=True)\n        (1): GELU(approximate='none')\n        (2): Linear(in_features=32, out_features=16, bias=True)\n        (3): Dropout(p=0.1, inplace=False)\n      )\n    )\n    (1): TransformerBlock(\n      (norm1): LayerNorm((16,), eps=1e-05, elementwise_affine=True)\n      (attn): MultiheadAttention(\n        (out_proj): NonDynamicallyQuantizableLinear(in_features=16, out_features=16, bias=True)\n      )\n      (norm2): LayerNorm((16,), eps=1e-05, elementwise_affine=True)\n      (mlp): Sequential(\n        (0): Linear(in_features=16, out_features=32, bias=True)\n        (1): GELU(approximate='none')\n        (2): Linear(in_features=32, out_features=16, bias=True)\n        (3): Dropout(p=0.1, inplace=False)\n      )\n    )\n    (2): TransformerBlock(\n      (norm1): LayerNorm((16,), eps=1e-05, elementwise_affine=True)\n      (attn): MultiheadAttention(\n        (out_proj): NonDynamicallyQuantizableLinear(in_features=16, out_features=16, bias=True)\n      )\n      (norm2): LayerNorm((16,), eps=1e-05, elementwise_affine=True)\n      (mlp): Sequential(\n        (0): Linear(in_features=16, out_features=32, bias=True)\n        (1): GELU(approximate='none')\n        (2): Linear(in_features=32, out_features=16, bias=True)\n        (3): Dropout(p=0.1, inplace=False)\n      )\n    )\n    (3): TransformerBlock(\n      (norm1): LayerNorm((16,), eps=1e-05, elementwise_affine=True)\n      (attn): MultiheadAttention(\n        (out_proj): NonDynamicallyQuantizableLinear(in_features=16, out_features=16, bias=True)\n      )\n      (norm2): LayerNorm((16,), eps=1e-05, elementwise_affine=True)\n      (mlp): Sequential(\n        (0): Linear(in_features=16, out_features=32, bias=True)\n        (1): GELU(approximate='none')\n        (2): Linear(in_features=32, out_features=16, bias=True)\n        (3): Dropout(p=0.1, inplace=False)\n      )\n    )\n  )\n  (norm): LayerNorm((16,), eps=1e-05, elementwise_affine=True)\n  (global_pool): AdaptiveAvgPool1d(output_size=1)\n  (classifier): Linear(in_features=16, out_features=4, bias=True)\n)"
     },
     "metadata": {}
    }
   ],
   "execution_count": 15
  },
  {
   "cell_type": "code",
   "source": "import pandas as pd\nfrom torch.utils.data import DataLoader, Dataset\nfrom torchvision import transforms\nfrom PIL import Image\nimport os\nimport torch",
   "metadata": {
    "trusted": true,
    "execution": {
     "iopub.status.busy": "2025-06-09T04:15:09.054187Z",
     "iopub.execute_input": "2025-06-09T04:15:09.054550Z",
     "iopub.status.idle": "2025-06-09T04:15:09.566589Z",
     "shell.execute_reply.started": "2025-06-09T04:15:09.054529Z",
     "shell.execute_reply": "2025-06-09T04:15:09.566032Z"
    }
   },
   "outputs": [],
   "execution_count": 19
  },
  {
   "cell_type": "code",
   "source": "\nclass AppleDataset(Dataset):\n    def __init__(self, dataframe, image_dir, transform):\n        self.df = dataframe\n        self.image_dir = image_dir\n        self.transform = transform\n\n    def __len__(self):\n        return len(self.df)\n\n    def __getitem__(self, idx):\n        row = self.df.iloc[idx]\n        img_path = os.path.join(self.image_dir, row[\"image_id\"] + '.jpg')\n        image = Image.open(img_path).convert('RGB')\n        image = self.transform(image)\n        label = torch.tensor(row['label_idx'])\n        return image, label\n",
   "metadata": {
    "trusted": true,
    "execution": {
     "iopub.status.busy": "2025-06-09T04:15:27.177789Z",
     "iopub.execute_input": "2025-06-09T04:15:27.178313Z",
     "iopub.status.idle": "2025-06-09T04:15:27.183273Z",
     "shell.execute_reply.started": "2025-06-09T04:15:27.178293Z",
     "shell.execute_reply": "2025-06-09T04:15:27.182698Z"
    }
   },
   "outputs": [],
   "execution_count": 21
  },
  {
   "cell_type": "code",
   "source": "# Load CSV\nval_df = pd.read_csv(\"data/processed/apple_val.csv\")\nval_transform = transforms.Compose([\n    transforms.Resize((224, 224)),\n    transforms.ToTensor(),\n    transforms.Normalize([0.485, 0.456, 0.406],\n                         [0.229, 0.224, 0.225])\n])\n\nval_dataset = AppleDataset(val_df, \"./data/raw/plant-pathology-2020-fgvc7/images\", val_transform)\nval_loader = DataLoader(val_dataset, batch_size=16)",
   "metadata": {
    "trusted": true,
    "execution": {
     "iopub.status.busy": "2025-06-09T04:15:29.467375Z",
     "iopub.execute_input": "2025-06-09T04:15:29.468059Z",
     "iopub.status.idle": "2025-06-09T04:15:29.474595Z",
     "shell.execute_reply.started": "2025-06-09T04:15:29.468037Z",
     "shell.execute_reply": "2025-06-09T04:15:29.474063Z"
    }
   },
   "outputs": [],
   "execution_count": 22
  },
  {
   "cell_type": "code",
   "source": "def evaluate(model, dataloader, criterion, device):\n    model.eval()\n    running_loss, correct, total = 0.0, 0, 0\n\n    with torch.no_grad():\n        for images, labels in dataloader:\n            images, labels = images.to(device), labels.to(device)\n\n            outputs = model(images)\n            loss = criterion(outputs, labels)\n\n            running_loss += loss.item() * images.size(0)\n            _, preds = torch.max(outputs, 1)\n            correct += (preds == labels).sum().item()\n            total += labels.size(0)\n\n    epoch_loss = running_loss / total\n    accuracy = correct / total\n    return epoch_loss, accuracy\n",
   "metadata": {
    "trusted": true,
    "execution": {
     "iopub.status.busy": "2025-06-09T04:15:41.259373Z",
     "iopub.execute_input": "2025-06-09T04:15:41.259652Z",
     "iopub.status.idle": "2025-06-09T04:15:41.264522Z",
     "shell.execute_reply.started": "2025-06-09T04:15:41.259632Z",
     "shell.execute_reply": "2025-06-09T04:15:41.263931Z"
    }
   },
   "outputs": [],
   "execution_count": 23
  },
  {
   "cell_type": "code",
   "source": "criterion = torch.nn.CrossEntropyLoss()\nval_loss, val_acc = evaluate(model, val_loader, criterion, device)\n\nprint(f\"✅ Validation Loss: {val_loss:.4f} — Accuracy: {val_acc:.4f}\")\n",
   "metadata": {
    "trusted": true,
    "execution": {
     "iopub.status.busy": "2025-06-09T04:15:52.113422Z",
     "iopub.execute_input": "2025-06-09T04:15:52.113804Z",
     "iopub.status.idle": "2025-06-09T04:16:02.466744Z",
     "shell.execute_reply.started": "2025-06-09T04:15:52.113775Z",
     "shell.execute_reply": "2025-06-09T04:16:02.466054Z"
    }
   },
   "outputs": [
    {
     "name": "stdout",
     "text": "✅ Validation Loss: 0.2974 — Accuracy: 0.9205\n",
     "output_type": "stream"
    }
   ],
   "execution_count": 24
  },
  {
   "metadata": {},
   "cell_type": "markdown",
   "source": "Validation Loss: 0.2974 — Accuracy: 0.9205"
  },
  {
   "metadata": {},
   "cell_type": "code",
   "outputs": [],
   "execution_count": null,
   "source": ""
  },
  {
   "cell_type": "markdown",
   "source": "confusion matrix here\n",
   "metadata": {}
  },
  {
   "cell_type": "code",
   "source": "from sklearn.metrics import confusion_matrix, ConfusionMatrixDisplay\nimport matplotlib.pyplot as plt\nimport torch\n\ndef plot_confusion_matrix(model, dataloader, device, class_names):\n    model.eval()\n    all_preds = []\n    all_labels = []\n\n    with torch.no_grad():\n        for images, labels in dataloader:\n            images = images.to(device)\n            labels = labels.to(device)\n\n            outputs = model(images)\n            _, preds = torch.max(outputs, 1)\n\n            all_preds.extend(preds.cpu().numpy())\n            all_labels.extend(labels.cpu().numpy())\n\n    # Compute confusion matrix\n    cm = confusion_matrix(all_labels, all_preds)\n    disp = ConfusionMatrixDisplay(confusion_matrix=cm, display_labels=class_names)\n    disp.plot(cmap='Blues', xticks_rotation=45)\n    plt.title(\"Confusion Matrix\")\n    plt.show()\n",
   "metadata": {
    "trusted": true,
    "execution": {
     "iopub.status.busy": "2025-06-09T04:16:46.998286Z",
     "iopub.execute_input": "2025-06-09T04:16:46.999142Z",
     "iopub.status.idle": "2025-06-09T04:16:47.552041Z",
     "shell.execute_reply.started": "2025-06-09T04:16:46.999100Z",
     "shell.execute_reply": "2025-06-09T04:16:47.551390Z"
    }
   },
   "outputs": [],
   "execution_count": 25
  },
  {
   "cell_type": "code",
   "source": "# Danh sách class (Apple dataset)\nclass_names = ['healthy', 'multiple_diseases', 'rust', 'scab']\n\n# Giả sử val_loader và model đã sẵn sàng\nplot_confusion_matrix(model, val_loader, device, class_names)\n",
   "metadata": {
    "trusted": true,
    "execution": {
     "iopub.status.busy": "2025-06-09T04:17:39.818744Z",
     "iopub.execute_input": "2025-06-09T04:17:39.819620Z",
     "iopub.status.idle": "2025-06-09T04:17:49.481816Z",
     "shell.execute_reply.started": "2025-06-09T04:17:39.819595Z",
     "shell.execute_reply": "2025-06-09T04:17:49.481062Z"
    }
   },
   "outputs": [
    {
     "output_type": "display_data",
     "data": {
      "text/plain": "<Figure size 640x480 with 2 Axes>",
      "image/png": "[encoded data removed]"
     },
     "metadata": {}
    }
   ],
   "execution_count": 26
  }
 ]
}
